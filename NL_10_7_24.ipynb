{
  "nbformat": 4,
  "nbformat_minor": 0,
  "metadata": {
    "colab": {
      "provenance": [],
      "authorship_tag": "ABX9TyO29YSju/nkAAYJ475ma+FC",
      "include_colab_link": true
    },
    "kernelspec": {
      "name": "python3",
      "display_name": "Python 3"
    },
    "language_info": {
      "name": "python"
    }
  },
  "cells": [
    {
      "cell_type": "markdown",
      "metadata": {
        "id": "view-in-github",
        "colab_type": "text"
      },
      "source": [
        "<a href=\"https://colab.research.google.com/github/2241031c/Night-Lights-Dissertation/blob/main/NL_10_7_24.ipynb\" target=\"_parent\"><img src=\"https://colab.research.google.com/assets/colab-badge.svg\" alt=\"Open In Colab\"/></a>"
      ]
    },
    {
      "cell_type": "markdown",
      "source": [
        "#This script converts between radiance, Luminance and NELD values to be used to cross reference with IDA accreditation"
      ],
      "metadata": {
        "id": "PLBvDB88q0fY"
      }
    },
    {
      "cell_type": "code",
      "source": [
        "#Import library\n",
        "import math"
      ],
      "metadata": {
        "id": "6n3MKPAPrLLt"
      },
      "execution_count": 1,
      "outputs": []
    },
    {
      "cell_type": "code",
      "source": [
        "def convert_mcd_m2_to_nw_sr_cm2_corrected(luminance_mcd_m2):\n",
        "    # Convert mcd/m² to cd/m²\n",
        "    luminance_cd_m2 = luminance_mcd_m2 / 1000\n",
        "\n",
        "    # Conversion factor from cd/m² to W/sr/m² using luminous efficacy\n",
        "    luminous_efficacy = 683  # lm/W for photopic vision\n",
        "\n",
        "    # Convert cd/m² to W/sr/m²\n",
        "    radiance_w_sr_m2 = luminance_cd_m2 / luminous_efficacy\n",
        "\n",
        "    # Convert W/sr/m² to nW/sr/cm²\n",
        "    radiance_nw_sr_cm2 = radiance_w_sr_m2 * 1e7\n",
        "\n",
        "    return radiance_nw_sr_cm2\n",
        "\n",
        "# Example usage\n",
        "luminance_mcd_m2 = 0.4\n",
        "radiance_nw_sr_cm2_corrected = convert_mcd_m2_to_nw_sr_cm2_corrected(luminance_mcd_m2)\n",
        "radiance_nw_sr_cm2_corrected\n"
      ],
      "metadata": {
        "colab": {
          "base_uri": "https://localhost:8080/"
        },
        "id": "b3UccwMRfw6x",
        "outputId": "1771f1b7-e423-4b90-c07c-f71c0602d674"
      },
      "execution_count": 4,
      "outputs": [
        {
          "output_type": "execute_result",
          "data": {
            "text/plain": [
              "5.856515373352855"
            ]
          },
          "metadata": {},
          "execution_count": 4
        }
      ]
    },
    {
      "cell_type": "markdown",
      "source": [
        "Luminance: 0.4 mcd/m² is equivalent to Radiance: 5.857 nW/sr/cm²"
      ],
      "metadata": {
        "id": "bOi8RWTseIW4"
      }
    }
  ]
}