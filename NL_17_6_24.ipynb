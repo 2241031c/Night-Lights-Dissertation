{
  "cells": [
    {
      "cell_type": "markdown",
      "metadata": {
        "id": "view-in-github",
        "colab_type": "text"
      },
      "source": [
        "<a href=\"https://colab.research.google.com/github/2241031c/Night-Lights-Dissertation/blob/main/NL_17_6_24.ipynb\" target=\"_parent\"><img src=\"https://colab.research.google.com/assets/colab-badge.svg\" alt=\"Open In Colab\"/></a>"
      ]
    },
    {
      "cell_type": "markdown",
      "metadata": {
        "id": "NoYYr7A4sFR-"
      },
      "source": [
        "\n",
        "\n",
        "#This script will pre-process VIIRS stray light corrected DNB for both Tomintoul and the Galloway .\n",
        "\n",
        "*change~ i edited this notebook on 10.7.24 to debug an error i was having with the galloway extension buffer. i reuploaded the extension file and buffer.\n",
        "\n",
        "Note a second import has been conducted to import galloway extension and galloway core as two seperate shapefiles.\n",
        "\n",
        "*   Clip the image to the geometry of the Galloway Forest and cairngorms.\n",
        "*   Clip all the images in the VIIRS-DNB stray-light corrected image collection to the Galloway Forest.\n",
        "*   Apply a mask and median filter\n",
        "*   Export to drive as Tiff's\n",
        "\n",
        "\n",
        "\n"
      ]
    },
    {
      "cell_type": "code",
      "execution_count": null,
      "metadata": {
        "id": "rK-tD9RZjn2T"
      },
      "outputs": [],
      "source": [
        "#Install libraries\n",
        "!pip install pycrs\n",
        "!pip install rasterio\n",
        "!pip install selenium\n",
        "!pip install webdriver_manager\n",
        "!pip install --upgrade geemap\n",
        "!pip install osmnx\n"
      ]
    },
    {
      "cell_type": "code",
      "execution_count": null,
      "metadata": {
        "id": "Z-gliA-QjwRd"
      },
      "outputs": [],
      "source": [
        "# Import necessary libraries\n",
        "import osmnx as ox\n",
        "import geopandas as gpd\n",
        "import pandas as pd\n",
        "from sklearn.linear_model import LinearRegression\n",
        "from sklearn.model_selection import train_test_split\n",
        "from sklearn.metrics import mean_squared_error\n",
        "import rasterio\n",
        "import numpy as np\n",
        "import matplotlib.pyplot as plt\n",
        "import os\n",
        "import ee\n",
        "from geemap import Map\n",
        "import folium\n",
        "from folium import features\n",
        "from folium import plugins\n",
        "from selenium import webdriver\n",
        "from selenium.webdriver.chrome.service import Service as ChromeService\n",
        "from webdriver_manager.chrome import ChromeDriverManager\n",
        "import time\n",
        "from IPython.display import display, HTML"
      ]
    },
    {
      "cell_type": "code",
      "execution_count": null,
      "metadata": {
        "colab": {
          "base_uri": "https://localhost:8080/",
          "height": 17
        },
        "id": "v4RrG0GFsCsh",
        "outputId": "aff2cd32-0d9f-4b08-bc23-2c15b14a60cc"
      },
      "outputs": [
        {
          "output_type": "display_data",
          "data": {
            "text/plain": [
              "<IPython.core.display.HTML object>"
            ],
            "text/html": [
              "\n",
              "            <style>\n",
              "                .geemap-dark {\n",
              "                    --jp-widgets-color: white;\n",
              "                    --jp-widgets-label-color: white;\n",
              "                    --jp-ui-font-color1: white;\n",
              "                    --jp-layout-color2: #454545;\n",
              "                    background-color: #383838;\n",
              "                }\n",
              "\n",
              "                .geemap-dark .jupyter-button {\n",
              "                    --jp-layout-color3: #383838;\n",
              "                }\n",
              "\n",
              "                .geemap-colab {\n",
              "                    background-color: var(--colab-primary-surface-color, white);\n",
              "                }\n",
              "\n",
              "                .geemap-colab .jupyter-button {\n",
              "                    --jp-layout-color3: var(--colab-primary-surface-color, white);\n",
              "                }\n",
              "            </style>\n",
              "            "
            ]
          },
          "metadata": {}
        }
      ],
      "source": [
        "\n",
        "\n",
        "try:\n",
        "    import geemap, ee\n",
        "except ModuleNotFoundError:\n",
        "    if 'google.colab' in str(get_ipython()):\n",
        "        print(\"package not found, installing w/ pip in Google Colab...\")\n",
        "        !pip install geemap\n",
        "    else:\n",
        "        print(\"package not found, installing w/ conda...\")\n",
        "        !conda install mamba -c conda-forge -y\n",
        "        !mamba install geemap -c conda-forge -y\n",
        "    import geemap, ee"
      ]
    },
    {
      "cell_type": "code",
      "execution_count": null,
      "metadata": {
        "colab": {
          "base_uri": "https://localhost:8080/",
          "height": 17
        },
        "id": "tvEi4b9o32Gy",
        "outputId": "8a73fd87-0969-4ec9-c75a-d99653da1713"
      },
      "outputs": [
        {
          "output_type": "display_data",
          "data": {
            "text/plain": [
              "<IPython.core.display.HTML object>"
            ],
            "text/html": [
              "\n",
              "            <style>\n",
              "                .geemap-dark {\n",
              "                    --jp-widgets-color: white;\n",
              "                    --jp-widgets-label-color: white;\n",
              "                    --jp-ui-font-color1: white;\n",
              "                    --jp-layout-color2: #454545;\n",
              "                    background-color: #383838;\n",
              "                }\n",
              "\n",
              "                .geemap-dark .jupyter-button {\n",
              "                    --jp-layout-color3: #383838;\n",
              "                }\n",
              "\n",
              "                .geemap-colab {\n",
              "                    background-color: var(--colab-primary-surface-color, white);\n",
              "                }\n",
              "\n",
              "                .geemap-colab .jupyter-button {\n",
              "                    --jp-layout-color3: var(--colab-primary-surface-color, white);\n",
              "                }\n",
              "            </style>\n",
              "            "
            ]
          },
          "metadata": {}
        }
      ],
      "source": [
        "try:\n",
        "        ee.Initialize(project='###') #enter project number (###)\n",
        "except Exception as e:\n",
        "        ee.Authenticate()\n",
        "        ee.Initialize()"
      ]
    },
    {
      "cell_type": "markdown",
      "metadata": {
        "id": "qxLtRDLqxaOh"
      },
      "source": [
        "#clip to the Cairngorms national park and Galloway Forest.\n",
        "when clipping to a shapefile ensure all files within the shapefile folder are uploaded in the same place (all the different file names prj, shx etc. as these will be referenced backend)."
      ]
    },
    {
      "cell_type": "code",
      "source": [
        "#importing and reading the Galloway shapefile\n",
        "#galloway_shp=\"/content/drive/MyDrive/NightLight/ArcGIS/FCPRODUCT_S_GALLOWAY_DARK_SKIES/FCPRODUCT_S_GALLOWAY_DARK_SKIES.shp\"\n",
        "#Galloway=geemap.shp_to_ee(galloway_shp).geometry()"
      ],
      "metadata": {
        "id": "XZYLmRaXilFD"
      },
      "execution_count": null,
      "outputs": []
    },
    {
      "cell_type": "code",
      "execution_count": null,
      "metadata": {
        "colab": {
          "base_uri": "https://localhost:8080/",
          "height": 17
        },
        "id": "JgrIb2ofjPXn",
        "outputId": "757851c3-d18c-46f8-cbf3-a10de328ae6e"
      },
      "outputs": [
        {
          "data": {
            "text/html": [
              "\n",
              "            <style>\n",
              "                .geemap-dark {\n",
              "                    --jp-widgets-color: white;\n",
              "                    --jp-widgets-label-color: white;\n",
              "                    --jp-ui-font-color1: white;\n",
              "                    --jp-layout-color2: #454545;\n",
              "                    background-color: #383838;\n",
              "                }\n",
              "\n",
              "                .geemap-dark .jupyter-button {\n",
              "                    --jp-layout-color3: #383838;\n",
              "                }\n",
              "\n",
              "                .geemap-colab {\n",
              "                    background-color: var(--colab-primary-surface-color, white);\n",
              "                }\n",
              "\n",
              "                .geemap-colab .jupyter-button {\n",
              "                    --jp-layout-color3: var(--colab-primary-surface-color, white);\n",
              "                }\n",
              "            </style>\n",
              "            "
            ],
            "text/plain": [
              "<IPython.core.display.HTML object>"
            ]
          },
          "metadata": {},
          "output_type": "display_data"
        }
      ],
      "source": [
        "#setting the coordinated for the centre of Scotland\n",
        "lat = 56.39\n",
        "lon = -4.04"
      ]
    },
    {
      "cell_type": "code",
      "execution_count": null,
      "metadata": {
        "colab": {
          "base_uri": "https://localhost:8080/",
          "height": 86
        },
        "id": "QAJU7mTt1vyF",
        "outputId": "4963948e-178c-4500-da2b-db5606f7cf57"
      },
      "outputs": [
        {
          "output_type": "display_data",
          "data": {
            "text/plain": [
              "<IPython.core.display.HTML object>"
            ],
            "text/html": [
              "\n",
              "            <style>\n",
              "                .geemap-dark {\n",
              "                    --jp-widgets-color: white;\n",
              "                    --jp-widgets-label-color: white;\n",
              "                    --jp-ui-font-color1: white;\n",
              "                    --jp-layout-color2: #454545;\n",
              "                    background-color: #383838;\n",
              "                }\n",
              "\n",
              "                .geemap-dark .jupyter-button {\n",
              "                    --jp-layout-color3: #383838;\n",
              "                }\n",
              "\n",
              "                .geemap-colab {\n",
              "                    background-color: var(--colab-primary-surface-color, white);\n",
              "                }\n",
              "\n",
              "                .geemap-colab .jupyter-button {\n",
              "                    --jp-layout-color3: var(--colab-primary-surface-color, white);\n",
              "                }\n",
              "            </style>\n",
              "            "
            ]
          },
          "metadata": {}
        },
        {
          "output_type": "stream",
          "name": "stderr",
          "text": [
            "WARNING:fiona._env:Value 2311953018.51000023 of field Shape__Are of feature 0 not successfully written. Possibly due to too larger number with respect to field width\n",
            "WARNING:fiona._env:Value 1850462593.71000004 of field Shape_Area of feature 0 not successfully written. Possibly due to too larger number with respect to field width\n",
            "WARNING:fiona._env:Value 461525215.047999978 of field Shape__Are of feature 0 not successfully written. Possibly due to too larger number with respect to field width\n",
            "WARNING:fiona._env:Value 461525214.995000005 of field Shape_Area of feature 0 not successfully written. Possibly due to too larger number with respect to field width\n"
          ]
        }
      ],
      "source": [
        "#importing shapefile for galloway core area and galloway extension\n",
        "galloway_ex_shp=\"/content/drive/MyDrive/NightLight/ArcGIS/Galloway_extension/Galloway_craigengillan_extension.shp\"\n",
        "galloway_core_shp=\"/content/drive/MyDrive/NightLight/ArcGIS/Galloway_core/Galloway_core_area.shp\"\n",
        "aoi_GA_ex=geemap.shp_to_ee(galloway_ex_shp).geometry()\n",
        "aoi_GA_c=geemap.shp_to_ee(galloway_core_shp).geometry()\n"
      ]
    },
    {
      "cell_type": "code",
      "execution_count": null,
      "metadata": {
        "colab": {
          "base_uri": "https://localhost:8080/",
          "height": 34
        },
        "id": "CmlCIKxLY7Ru",
        "outputId": "8796d570-1827-4746-fc83-a7d0d2bdc5de"
      },
      "outputs": [
        {
          "output_type": "display_data",
          "data": {
            "text/plain": [
              "<IPython.core.display.HTML object>"
            ],
            "text/html": [
              "\n",
              "            <style>\n",
              "                .geemap-dark {\n",
              "                    --jp-widgets-color: white;\n",
              "                    --jp-widgets-label-color: white;\n",
              "                    --jp-ui-font-color1: white;\n",
              "                    --jp-layout-color2: #454545;\n",
              "                    background-color: #383838;\n",
              "                }\n",
              "\n",
              "                .geemap-dark .jupyter-button {\n",
              "                    --jp-layout-color3: #383838;\n",
              "                }\n",
              "\n",
              "                .geemap-colab {\n",
              "                    background-color: var(--colab-primary-surface-color, white);\n",
              "                }\n",
              "\n",
              "                .geemap-colab .jupyter-button {\n",
              "                    --jp-layout-color3: var(--colab-primary-surface-color, white);\n",
              "                }\n",
              "            </style>\n",
              "            "
            ]
          },
          "metadata": {}
        },
        {
          "output_type": "stream",
          "name": "stderr",
          "text": [
            "WARNING:fiona._env:Value 642153813.67900002 of field Shape_Area of feature 0 not successfully written. Possibly due to too larger number with respect to field width\n"
          ]
        }
      ],
      "source": [
        "Tomintoul_shp=\"/content/drive/MyDrive/NightLight/ArcGIS/Tominoul_boundary/Tomintoul_boundary.shp\"\n",
        "aoi_T=geemap.shp_to_ee(Tomintoul_shp).geometry()"
      ]
    },
    {
      "cell_type": "markdown",
      "source": [
        "#import files for the Tomintoul buffer.\n",
        "here a 20km buffer is used, this was refined to a 10km buffer after further research.\n",
        "\n"
      ],
      "metadata": {
        "id": "D5ogfz3vR6Fr"
      }
    },
    {
      "cell_type": "code",
      "source": [
        "Tomintoul_inc_shp=\"/content/drive/MyDrive/NightLight/ArcGIS/Tominoul_boundary/Tomintoul_20km_buffer_inc/Tomintoul_20km_buffer_inc.shp\"\n",
        "aoi_T_inc=geemap.shp_to_ee(Tomintoul_inc_shp).geometry()"
      ],
      "metadata": {
        "colab": {
          "base_uri": "https://localhost:8080/",
          "height": 17
        },
        "id": "B4zHUyEoSIa-",
        "outputId": "68ca40d8-5129-4b7d-bdcc-f98b3a19fc48"
      },
      "execution_count": null,
      "outputs": [
        {
          "output_type": "display_data",
          "data": {
            "text/plain": [
              "<IPython.core.display.HTML object>"
            ],
            "text/html": [
              "\n",
              "            <style>\n",
              "                .geemap-dark {\n",
              "                    --jp-widgets-color: white;\n",
              "                    --jp-widgets-label-color: white;\n",
              "                    --jp-ui-font-color1: white;\n",
              "                    --jp-layout-color2: #454545;\n",
              "                    background-color: #383838;\n",
              "                }\n",
              "\n",
              "                .geemap-dark .jupyter-button {\n",
              "                    --jp-layout-color3: #383838;\n",
              "                }\n",
              "\n",
              "                .geemap-colab {\n",
              "                    background-color: var(--colab-primary-surface-color, white);\n",
              "                }\n",
              "\n",
              "                .geemap-colab .jupyter-button {\n",
              "                    --jp-layout-color3: var(--colab-primary-surface-color, white);\n",
              "                }\n",
              "            </style>\n",
              "            "
            ]
          },
          "metadata": {}
        }
      ]
    },
    {
      "cell_type": "markdown",
      "metadata": {
        "id": "YSoXjLJa3Kbc"
      },
      "source": [
        "#Clip an entire ImageCollection to Galloway Core area."
      ]
    },
    {
      "cell_type": "code",
      "execution_count": null,
      "metadata": {
        "colab": {
          "base_uri": "https://localhost:8080/",
          "height": 17
        },
        "id": "lJSfikpd3U3l",
        "outputId": "302b0e12-71fa-4430-ccc5-bc3eb9ece6d0"
      },
      "outputs": [
        {
          "output_type": "display_data",
          "data": {
            "text/plain": [
              "<IPython.core.display.HTML object>"
            ],
            "text/html": [
              "\n",
              "            <style>\n",
              "                .geemap-dark {\n",
              "                    --jp-widgets-color: white;\n",
              "                    --jp-widgets-label-color: white;\n",
              "                    --jp-ui-font-color1: white;\n",
              "                    --jp-layout-color2: #454545;\n",
              "                    background-color: #383838;\n",
              "                }\n",
              "\n",
              "                .geemap-dark .jupyter-button {\n",
              "                    --jp-layout-color3: #383838;\n",
              "                }\n",
              "\n",
              "                .geemap-colab {\n",
              "                    background-color: var(--colab-primary-surface-color, white);\n",
              "                }\n",
              "\n",
              "                .geemap-colab .jupyter-button {\n",
              "                    --jp-layout-color3: var(--colab-primary-surface-color, white);\n",
              "                }\n",
              "            </style>\n",
              "            "
            ]
          },
          "metadata": {}
        }
      ],
      "source": [
        "# get the entire VIIRS-DNB selection -- still only selecting the \"avg_rad\" band\n",
        "viirsDNB1 = ee.ImageCollection(\"NOAA/VIIRS/DNB/MONTHLY_V1/VCMSLCFG\").select('avg_rad')\n",
        "\n",
        "# here's a function that uses the aoi_GA_c to clip an image\n",
        "def clip_func(x):\n",
        "    return x.clip(aoi_GA_c)\n",
        "\n",
        "# for simple functions in Python, we can also use the \"lambda\" convention\n",
        "# this is identical to what we just defined above\n",
        "# and is nice and compact for vectorizing functions on arrays and images, etc.\n",
        "clip_func = lambda x: x.clip(aoi_GA_c)\n",
        "\n",
        "# in fact, by using lambda, we dont need to define this \"clip_func\" function at all\n",
        "# we can write it directly in our \"map\" function, like this:\n",
        "viirs_GA_c = viirsDNB1.map(lambda x: x.clip(aoi_GA_c))"
      ]
    },
    {
      "cell_type": "markdown",
      "metadata": {
        "id": "n8dGOcLd1PoY"
      },
      "source": [
        "#Clip an entire ImageCollection to Galloway Extension"
      ]
    },
    {
      "cell_type": "code",
      "execution_count": null,
      "metadata": {
        "colab": {
          "base_uri": "https://localhost:8080/",
          "height": 17
        },
        "id": "nTZH1EE13WF8",
        "outputId": "b60e03cd-55be-4a04-9ab5-3802a7607625"
      },
      "outputs": [
        {
          "output_type": "display_data",
          "data": {
            "text/plain": [
              "<IPython.core.display.HTML object>"
            ],
            "text/html": [
              "\n",
              "            <style>\n",
              "                .geemap-dark {\n",
              "                    --jp-widgets-color: white;\n",
              "                    --jp-widgets-label-color: white;\n",
              "                    --jp-ui-font-color1: white;\n",
              "                    --jp-layout-color2: #454545;\n",
              "                    background-color: #383838;\n",
              "                }\n",
              "\n",
              "                .geemap-dark .jupyter-button {\n",
              "                    --jp-layout-color3: #383838;\n",
              "                }\n",
              "\n",
              "                .geemap-colab {\n",
              "                    background-color: var(--colab-primary-surface-color, white);\n",
              "                }\n",
              "\n",
              "                .geemap-colab .jupyter-button {\n",
              "                    --jp-layout-color3: var(--colab-primary-surface-color, white);\n",
              "                }\n",
              "            </style>\n",
              "            "
            ]
          },
          "metadata": {}
        }
      ],
      "source": [
        "# get the entire VIIRS-DNB selection -- still only selecting the \"avg_rad\" band\n",
        "viirsDNB2 = ee.ImageCollection(\"NOAA/VIIRS/DNB/MONTHLY_V1/VCMSLCFG\").select('avg_rad')\n",
        "\n",
        "# here's a function that uses the aoi_GA_ex to clip an image\n",
        "def clip_func(x):\n",
        "    return x.clip(aoi_GA_ex)\n",
        "\n",
        "# for simple functions in Python, we can also use the \"lambda\" convention\n",
        "# this is identical to what we just defined above\n",
        "# and is nice and compact for vectorizing functions on arrays and images, etc.\n",
        "clip_func = lambda x: x.clip(aoi_GA_ex)\n",
        "\n",
        "# in fact, by using lambda, we dont need to define this \"clip_func\" function at all\n",
        "# we can write it directly in our \"map\" function, like this:\n",
        "viirs_GA_ex = viirsDNB2.map(lambda x: x.clip(aoi_GA_ex))"
      ]
    },
    {
      "cell_type": "markdown",
      "metadata": {
        "id": "Ihm9hWv7ZWjy"
      },
      "source": [
        "#Clip entire image collection to Tomintoul"
      ]
    },
    {
      "cell_type": "code",
      "execution_count": null,
      "metadata": {
        "colab": {
          "base_uri": "https://localhost:8080/",
          "height": 17
        },
        "id": "tteqdtKnZVkz",
        "outputId": "f572eded-91f9-4728-dd13-df82b4b4c643"
      },
      "outputs": [
        {
          "output_type": "display_data",
          "data": {
            "text/plain": [
              "<IPython.core.display.HTML object>"
            ],
            "text/html": [
              "\n",
              "            <style>\n",
              "                .geemap-dark {\n",
              "                    --jp-widgets-color: white;\n",
              "                    --jp-widgets-label-color: white;\n",
              "                    --jp-ui-font-color1: white;\n",
              "                    --jp-layout-color2: #454545;\n",
              "                    background-color: #383838;\n",
              "                }\n",
              "\n",
              "                .geemap-dark .jupyter-button {\n",
              "                    --jp-layout-color3: #383838;\n",
              "                }\n",
              "\n",
              "                .geemap-colab {\n",
              "                    background-color: var(--colab-primary-surface-color, white);\n",
              "                }\n",
              "\n",
              "                .geemap-colab .jupyter-button {\n",
              "                    --jp-layout-color3: var(--colab-primary-surface-color, white);\n",
              "                }\n",
              "            </style>\n",
              "            "
            ]
          },
          "metadata": {}
        }
      ],
      "source": [
        "# get the entire VIIRS-DNB selection -- still only selecting the \"avg_rad\" band\n",
        "viirsDNB3 = ee.ImageCollection(\"NOAA/VIIRS/DNB/MONTHLY_V1/VCMSLCFG\").select('avg_rad')\n",
        "\n",
        "# here's a function that uses the CA aoi to clip an image\n",
        "def clip_func(x):\n",
        "    return x.clip(aoi_T)\n",
        "\n",
        "# for simple functions in Python, we can also use the \"lambda\" convention\n",
        "# this is identical to what we just defined above\n",
        "# and is nice and compact for vectorizing functions on arrays and images, etc.\n",
        "clip_func = lambda x: x.clip(aoi_T)\n",
        "\n",
        "# in fact, by using lambda, we dont need to define this \"clip_func\" function at all\n",
        "# we can write it directly in our \"map\" function, like this:\n",
        "viirs_T = viirsDNB3.map(lambda x: x.clip(aoi_T))"
      ]
    },
    {
      "cell_type": "markdown",
      "source": [
        "#Clip entire image collection to Galloway whole area and Tomintoul with buffer"
      ],
      "metadata": {
        "id": "iv8OB40DOoYB"
      }
    },
    {
      "cell_type": "code",
      "source": [
        "# get the entire VIIRS-DNB selection -- still only selecting the \"avg_rad\" band\n",
        "viirsDNB5 = ee.ImageCollection(\"NOAA/VIIRS/DNB/MONTHLY_V1/VCMSLCFG\").select('avg_rad')\n",
        "\n",
        "# here's a function that uses the CA aoi to clip an image\n",
        "def clip_func(x):\n",
        "    return x.clip(aoi_T_inc)\n",
        "\n",
        "# for simple functions in Python, we can also use the \"lambda\" convention\n",
        "# this is identical to what we just defined above\n",
        "# and is nice and compact for vectorizing functions on arrays and images, etc.\n",
        "clip_func = lambda x: x.clip(aoi_T_inc)\n",
        "\n",
        "# in fact, by using lambda, we dont need to define this \"clip_func\" function at all\n",
        "# we can write it directly in our \"map\" function, like this:\n",
        "viirs_T_inc = viirsDNB5.map(lambda x: x.clip(aoi_T_inc))"
      ],
      "metadata": {
        "colab": {
          "base_uri": "https://localhost:8080/",
          "height": 17
        },
        "id": "R-Vl9T-uSyym",
        "outputId": "f5f30a83-ebbf-41b4-e756-5697587e1d8b"
      },
      "execution_count": null,
      "outputs": [
        {
          "output_type": "display_data",
          "data": {
            "text/plain": [
              "<IPython.core.display.HTML object>"
            ],
            "text/html": [
              "\n",
              "            <style>\n",
              "                .geemap-dark {\n",
              "                    --jp-widgets-color: white;\n",
              "                    --jp-widgets-label-color: white;\n",
              "                    --jp-ui-font-color1: white;\n",
              "                    --jp-layout-color2: #454545;\n",
              "                    background-color: #383838;\n",
              "                }\n",
              "\n",
              "                .geemap-dark .jupyter-button {\n",
              "                    --jp-layout-color3: #383838;\n",
              "                }\n",
              "\n",
              "                .geemap-colab {\n",
              "                    background-color: var(--colab-primary-surface-color, white);\n",
              "                }\n",
              "\n",
              "                .geemap-colab .jupyter-button {\n",
              "                    --jp-layout-color3: var(--colab-primary-surface-color, white);\n",
              "                }\n",
              "            </style>\n",
              "            "
            ]
          },
          "metadata": {}
        }
      ]
    },
    {
      "cell_type": "markdown",
      "metadata": {
        "id": "SMtuY2su3FPt"
      },
      "source": [
        "#Analysis to remove transient lights by applying a spatial filter."
      ]
    },
    {
      "cell_type": "code",
      "execution_count": null,
      "metadata": {
        "colab": {
          "base_uri": "https://localhost:8080/",
          "height": 17
        },
        "id": "sR-YCaZ6dirF",
        "outputId": "3e332017-f576-4059-962d-10111345e57a"
      },
      "outputs": [
        {
          "output_type": "display_data",
          "data": {
            "text/plain": [
              "<IPython.core.display.HTML object>"
            ],
            "text/html": [
              "\n",
              "            <style>\n",
              "                .geemap-dark {\n",
              "                    --jp-widgets-color: white;\n",
              "                    --jp-widgets-label-color: white;\n",
              "                    --jp-ui-font-color1: white;\n",
              "                    --jp-layout-color2: #454545;\n",
              "                    background-color: #383838;\n",
              "                }\n",
              "\n",
              "                .geemap-dark .jupyter-button {\n",
              "                    --jp-layout-color3: #383838;\n",
              "                }\n",
              "\n",
              "                .geemap-colab {\n",
              "                    background-color: var(--colab-primary-surface-color, white);\n",
              "                }\n",
              "\n",
              "                .geemap-colab .jupyter-button {\n",
              "                    --jp-layout-color3: var(--colab-primary-surface-color, white);\n",
              "                }\n",
              "            </style>\n",
              "            "
            ]
          },
          "metadata": {}
        }
      ],
      "source": [
        "# Load the VIIRS dataset and filter by date range\n",
        "def load_viirs_data(start_date, end_date, aoi):\n",
        "    dataset = ee.ImageCollection('NOAA/VIIRS/DNB/MONTHLY_V1/VCMSLCFG')\\\n",
        "                .filterDate(start_date, end_date)\\\n",
        "                .select('avg_rad')\\\n",
        "                .mean()\\\n",
        "                .clip(aoi)\n",
        "    return dataset\n",
        "\n",
        "# Apply the mask\n",
        "def apply_mask(image):\n",
        "    mask = image.gt(0)  # Masking non-positive values (assuming light pollution data has positive values)\n",
        "    return image.updateMask(mask)\n",
        "\n",
        "# Define a function to apply a median filter\n",
        "def apply_median_filter(image, kernel_size):\n",
        "    return image.focal_median(kernel_size, 'circle', 'meters')\n",
        "\n",
        "# Load, mask, and filter datasets for each year for both AOIs\n",
        "def process_data_for_aoi(start_year, end_year, aoi):\n",
        "    viirs_data = {}\n",
        "    for year in range(start_year, end_year + 1):\n",
        "        data = apply_mask(load_viirs_data(f'{year}-01-01', f'{year}-12-31', aoi))\n",
        "        filtered_data = apply_median_filter(data, kernel_size)\n",
        "        viirs_data[year] = filtered_data\n",
        "    return viirs_data\n",
        "\n",
        "# Define kernel size\n",
        "kernel_size = 3\n",
        "\n",
        "# Process data for Galloway core, Galloway extension and Tomintoul\n",
        "#I'm going to edit the start dates so they represent when the AOI was a dark sky park\n",
        "galloway_c_data = process_data_for_aoi(2014, 2023, aoi_GA_c)\n",
        "galloway_ex_data = process_data_for_aoi(2021, 2023, aoi_GA_ex)\n",
        "aoi_T_data = process_data_for_aoi(2018, 2023, aoi_T)\n",
        "aoi_T_inc_data = process_data_for_aoi(2018, 2023, aoi_T_inc)"
      ]
    },
    {
      "cell_type": "markdown",
      "source": [
        "Now to map"
      ],
      "metadata": {
        "id": "j6My5Vg2jwp5"
      }
    },
    {
      "cell_type": "code",
      "execution_count": null,
      "metadata": {
        "colab": {
          "base_uri": "https://localhost:8080/",
          "height": 17
        },
        "id": "0HXL25EOeZhp",
        "outputId": "7e94610b-e4fa-4f1b-ec9a-dcd7105e2768"
      },
      "outputs": [
        {
          "output_type": "display_data",
          "data": {
            "text/plain": [
              "<IPython.core.display.HTML object>"
            ],
            "text/html": [
              "\n",
              "            <style>\n",
              "                .geemap-dark {\n",
              "                    --jp-widgets-color: white;\n",
              "                    --jp-widgets-label-color: white;\n",
              "                    --jp-ui-font-color1: white;\n",
              "                    --jp-layout-color2: #454545;\n",
              "                    background-color: #383838;\n",
              "                }\n",
              "\n",
              "                .geemap-dark .jupyter-button {\n",
              "                    --jp-layout-color3: #383838;\n",
              "                }\n",
              "\n",
              "                .geemap-colab {\n",
              "                    background-color: var(--colab-primary-surface-color, white);\n",
              "                }\n",
              "\n",
              "                .geemap-colab .jupyter-button {\n",
              "                    --jp-layout-color3: var(--colab-primary-surface-color, white);\n",
              "                }\n",
              "            </style>\n",
              "            "
            ]
          },
          "metadata": {}
        }
      ],
      "source": [
        "#This needs to ba added to allow you to make a map with folium, it basically makes a notebook \"trusted\"\n",
        "def folium_deepnote_show(m):\n",
        "    data = m.get_root().render()\n",
        "    data_fixed_height = data.replace('width: 100%;height: 100%', 'width: 100%').replace('height: 100.0%;', 'height: 609px;', 1)\n",
        "    display(HTML(data_fixed_height))"
      ]
    },
    {
      "cell_type": "code",
      "execution_count": null,
      "metadata": {
        "colab": {
          "base_uri": "https://localhost:8080/",
          "height": 17
        },
        "id": "X72AiOPCelOe",
        "outputId": "3c0da5b3-478d-49c6-851f-020756b0d66e"
      },
      "outputs": [
        {
          "output_type": "display_data",
          "data": {
            "text/plain": [
              "<IPython.core.display.HTML object>"
            ],
            "text/html": [
              "\n",
              "            <style>\n",
              "                .geemap-dark {\n",
              "                    --jp-widgets-color: white;\n",
              "                    --jp-widgets-label-color: white;\n",
              "                    --jp-ui-font-color1: white;\n",
              "                    --jp-layout-color2: #454545;\n",
              "                    background-color: #383838;\n",
              "                }\n",
              "\n",
              "                .geemap-dark .jupyter-button {\n",
              "                    --jp-layout-color3: #383838;\n",
              "                }\n",
              "\n",
              "                .geemap-colab {\n",
              "                    background-color: var(--colab-primary-surface-color, white);\n",
              "                }\n",
              "\n",
              "                .geemap-colab .jupyter-button {\n",
              "                    --jp-layout-color3: var(--colab-primary-surface-color, white);\n",
              "                }\n",
              "            </style>\n",
              "            "
            ]
          },
          "metadata": {}
        }
      ],
      "source": [
        "# Function to add an EE layer to the map\n",
        "def add_ee_layer(map_obj, ee_image, vis_params, name):\n",
        "    map_id_dict = ee.Image(ee_image).getMapId(vis_params)\n",
        "    folium.raster_layers.TileLayer(\n",
        "        tiles=map_id_dict['tile_fetcher'].url_format,\n",
        "        attr='Google Earth Engine',\n",
        "        name=name,\n",
        "        overlay=True,\n",
        "        control=True\n",
        "    ).add_to(map_obj)\n",
        "\n",
        "# Visualization parameters\n",
        "vis_params = {'min': 0, 'max': 100, 'palette': ['black', 'yellow', 'orange', 'red', 'green', 'blue', 'purple']}\n",
        "\n",
        "# Function to add a legend to the map\n",
        "def add_legend(map_obj, title, colors, labels):\n",
        "    legend_html = '''\n",
        "    <div style=\"position: fixed; bottom: 50px; left: 50px; width: 150px; height: 200px;\n",
        "    background-color: white; border:2px solid grey; padding:10px; z-index:9999; font-size:14px;\">\n",
        "    &nbsp; <b>{}</b> <br>\n",
        "    '''.format(title)\n",
        "\n",
        "    for color, label in zip(colors, labels):\n",
        "        legend_html += '''\n",
        "        &nbsp; <i style=\"background:{}; width:20px; height:20px; float:left; margin-right:5px;\"></i> {} <br>\n",
        "        '''.format(color, label)\n",
        "\n",
        "    legend_html += '</div>'\n",
        "\n",
        "    map_obj.get_root().html.add_child(folium.Element(legend_html))\n",
        "\n",
        "# Define the color palette and corresponding labels\n",
        "colors = ['black', 'yellow', 'orange', 'red', 'green', 'blue', 'purple']\n",
        "labels = ['0-10', '10-20', '20-30', '30-40', '40-50', '50-60', '60-100']\n",
        "\n"
      ]
    },
    {
      "cell_type": "code",
      "execution_count": null,
      "metadata": {
        "id": "SBUnQfeI5ZXt"
      },
      "outputs": [],
      "source": [
        "!pip install mapbox # mapbox have some cool basemaps, could look into for presenting"
      ]
    },
    {
      "cell_type": "code",
      "execution_count": null,
      "metadata": {
        "colab": {
          "base_uri": "https://localhost:8080/",
          "height": 609
        },
        "id": "VzOUrlRRlUTi",
        "outputId": "18c0c0fc-ff0b-4451-e935-539608cf89cc"
      },
      "outputs": [
        {
          "data": {
            "text/html": [
              "\n",
              "            <style>\n",
              "                .geemap-dark {\n",
              "                    --jp-widgets-color: white;\n",
              "                    --jp-widgets-label-color: white;\n",
              "                    --jp-ui-font-color1: white;\n",
              "                    --jp-layout-color2: #454545;\n",
              "                    background-color: #383838;\n",
              "                }\n",
              "\n",
              "                .geemap-dark .jupyter-button {\n",
              "                    --jp-layout-color3: #383838;\n",
              "                }\n",
              "\n",
              "                .geemap-colab {\n",
              "                    background-color: var(--colab-primary-surface-color, white);\n",
              "                }\n",
              "\n",
              "                .geemap-colab .jupyter-button {\n",
              "                    --jp-layout-color3: var(--colab-primary-surface-color, white);\n",
              "                }\n",
              "            </style>\n",
              "            "
            ],
            "text/plain": [
              "<IPython.core.display.HTML object>"
            ]
          },
          "metadata": {},
          "output_type": "display_data"
        },
        {
          "data": {
            "text/html": [
              "<!DOCTYPE html>\n",
              "<html>\n",
              "<head>\n",
              "    \n",
              "    <meta http-equiv=\"content-type\" content=\"text/html; charset=UTF-8\" />\n",
              "    \n",
              "        <script>\n",
              "            L_NO_TOUCH = false;\n",
              "            L_DISABLE_3D = false;\n",
              "        </script>\n",
              "    \n",
              "    <style>html, body {width: 100%;margin: 0;padding: 0;}</style>\n",
              "    <style>#map {position:absolute;top:0;bottom:0;right:0;left:0;}</style>\n",
              "    <script src=\"https://cdn.jsdelivr.net/npm/leaflet@1.9.3/dist/leaflet.js\"></script>\n",
              "    <script src=\"https://code.jquery.com/jquery-1.12.4.min.js\"></script>\n",
              "    <script src=\"https://cdn.jsdelivr.net/npm/bootstrap@5.2.2/dist/js/bootstrap.bundle.min.js\"></script>\n",
              "    <script src=\"https://cdnjs.cloudflare.com/ajax/libs/Leaflet.awesome-markers/2.0.2/leaflet.awesome-markers.js\"></script>\n",
              "    <link rel=\"stylesheet\" href=\"https://cdn.jsdelivr.net/npm/leaflet@1.9.3/dist/leaflet.css\"/>\n",
              "    <link rel=\"stylesheet\" href=\"https://cdn.jsdelivr.net/npm/bootstrap@5.2.2/dist/css/bootstrap.min.css\"/>\n",
              "    <link rel=\"stylesheet\" href=\"https://netdna.bootstrapcdn.com/bootstrap/3.0.0/css/bootstrap.min.css\"/>\n",
              "    <link rel=\"stylesheet\" href=\"https://cdn.jsdelivr.net/npm/@fortawesome/fontawesome-free@6.2.0/css/all.min.css\"/>\n",
              "    <link rel=\"stylesheet\" href=\"https://cdnjs.cloudflare.com/ajax/libs/Leaflet.awesome-markers/2.0.2/leaflet.awesome-markers.css\"/>\n",
              "    <link rel=\"stylesheet\" href=\"https://cdn.jsdelivr.net/gh/python-visualization/folium/folium/templates/leaflet.awesome.rotate.min.css\"/>\n",
              "    \n",
              "            <meta name=\"viewport\" content=\"width=device-width,\n",
              "                initial-scale=1.0, maximum-scale=1.0, user-scalable=no\" />\n",
              "            <style>\n",
              "                #map_98ad8edb2539cf2f5276f2e3f049f346 {\n",
              "                    position: relative;\n",
              "                    width: 100.0%;\n",
              "                    height: 609px;\n",
              "                    left: 0.0%;\n",
              "                    top: 0.0%;\n",
              "                }\n",
              "                .leaflet-container { font-size: 1rem; }\n",
              "            </style>\n",
              "        \n",
              "</head>\n",
              "<body>\n",
              "    \n",
              "    \n",
              "    <div style=\"position: fixed; bottom: 50px; left: 50px; width: 150px; height: 200px;\n",
              "    background-color: white; border:2px solid grey; padding:10px; z-index:9999; font-size:14px;\">\n",
              "    &nbsp; <b>Radiance (nW/cm2/sr)</b> <br>\n",
              "    \n",
              "        &nbsp; <i style=\"background:black; width:20px; height:20px; float:left; margin-right:5px;\"></i> 0-10 <br>\n",
              "        \n",
              "        &nbsp; <i style=\"background:yellow; width:20px; height:20px; float:left; margin-right:5px;\"></i> 10-20 <br>\n",
              "        \n",
              "        &nbsp; <i style=\"background:orange; width:20px; height:20px; float:left; margin-right:5px;\"></i> 20-30 <br>\n",
              "        \n",
              "        &nbsp; <i style=\"background:red; width:20px; height:20px; float:left; margin-right:5px;\"></i> 30-40 <br>\n",
              "        \n",
              "        &nbsp; <i style=\"background:green; width:20px; height:20px; float:left; margin-right:5px;\"></i> 40-50 <br>\n",
              "        \n",
              "        &nbsp; <i style=\"background:blue; width:20px; height:20px; float:left; margin-right:5px;\"></i> 50-60 <br>\n",
              "        \n",
              "        &nbsp; <i style=\"background:purple; width:20px; height:20px; float:left; margin-right:5px;\"></i> 60-100 <br>\n",
              "        </div>\n",
              "    \n",
              "            <div class=\"folium-map\" id=\"map_98ad8edb2539cf2f5276f2e3f049f346\" ></div>\n",
              "        \n",
              "</body>\n",
              "<script>\n",
              "    \n",
              "    \n",
              "            var map_98ad8edb2539cf2f5276f2e3f049f346 = L.map(\n",
              "                \"map_98ad8edb2539cf2f5276f2e3f049f346\",\n",
              "                {\n",
              "                    center: [55.0, -4.5],\n",
              "                    crs: L.CRS.EPSG3857,\n",
              "                    zoom: 9,\n",
              "                    zoomControl: true,\n",
              "                    preferCanvas: false,\n",
              "                }\n",
              "            );\n",
              "\n",
              "            \n",
              "\n",
              "        \n",
              "    \n",
              "            var tile_layer_165e09343e269ab6e8dcf38a5076efbb = L.tileLayer(\n",
              "                \"https://cartodb-basemaps-{s}.global.ssl.fastly.net/light_all/{z}/{x}/{y}.png\",\n",
              "                {\"attribution\": \"\\u0026copy; \\u003ca target=\\\"_blank\\\" href=\\\"http://www.openstreetmap.org/copyright\\\"\\u003eOpenStreetMap\\u003c/a\\u003e contributors \\u0026copy; \\u003ca target=\\\"_blank\\\" href=\\\"http://cartodb.com/attributions\\\"\\u003eCartoDB\\u003c/a\\u003e, CartoDB \\u003ca target=\\\"_blank\\\" href =\\\"http://cartodb.com/attributions\\\"\\u003eattributions\\u003c/a\\u003e\", \"detectRetina\": false, \"maxNativeZoom\": 18, \"maxZoom\": 18, \"minZoom\": 0, \"noWrap\": false, \"opacity\": 1, \"subdomains\": \"abc\", \"tms\": false}\n",
              "            ).addTo(map_98ad8edb2539cf2f5276f2e3f049f346);\n",
              "        \n",
              "    \n",
              "            var tile_layer_c5d4c09b5fa0738507f6ad882d97c401 = L.tileLayer(\n",
              "                \"https://earthengine.googleapis.com/v1/projects/laurabeth1418/maps/f88d9ca7c369985d2cf26bc317ae6222-6e8330947d317b3992ff8afcae3f5e82/tiles/{z}/{x}/{y}\",\n",
              "                {\"attribution\": \"Google Earth Engine\", \"detectRetina\": false, \"maxNativeZoom\": 18, \"maxZoom\": 18, \"minZoom\": 0, \"noWrap\": false, \"opacity\": 1, \"subdomains\": \"abc\", \"tms\": false}\n",
              "            ).addTo(map_98ad8edb2539cf2f5276f2e3f049f346);\n",
              "        \n",
              "    \n",
              "            var tile_layer_fdfaa98ebb68b17fe25b63c43c973348 = L.tileLayer(\n",
              "                \"https://earthengine.googleapis.com/v1/projects/laurabeth1418/maps/c14a1c55a080bcda47855750fa743434-2526ef8d66bbb9942df1219ea5c75a64/tiles/{z}/{x}/{y}\",\n",
              "                {\"attribution\": \"Google Earth Engine\", \"detectRetina\": false, \"maxNativeZoom\": 18, \"maxZoom\": 18, \"minZoom\": 0, \"noWrap\": false, \"opacity\": 1, \"subdomains\": \"abc\", \"tms\": false}\n",
              "            ).addTo(map_98ad8edb2539cf2f5276f2e3f049f346);\n",
              "        \n",
              "    \n",
              "            var tile_layer_2085bb048440193b71161edf387e4f56 = L.tileLayer(\n",
              "                \"https://earthengine.googleapis.com/v1/projects/laurabeth1418/maps/5247a5d6cf2b24d67b7a6779064ca2be-09733367829236449eb2d2120a83b02c/tiles/{z}/{x}/{y}\",\n",
              "                {\"attribution\": \"Google Earth Engine\", \"detectRetina\": false, \"maxNativeZoom\": 18, \"maxZoom\": 18, \"minZoom\": 0, \"noWrap\": false, \"opacity\": 1, \"subdomains\": \"abc\", \"tms\": false}\n",
              "            ).addTo(map_98ad8edb2539cf2f5276f2e3f049f346);\n",
              "        \n",
              "    \n",
              "            var tile_layer_abf1eb7dbf9f1398b98716d7553a1bf0 = L.tileLayer(\n",
              "                \"https://earthengine.googleapis.com/v1/projects/laurabeth1418/maps/a9169dfc6eafa2059c843fa23afe0084-c4308ff6d92a839d505277768b01476b/tiles/{z}/{x}/{y}\",\n",
              "                {\"attribution\": \"Google Earth Engine\", \"detectRetina\": false, \"maxNativeZoom\": 18, \"maxZoom\": 18, \"minZoom\": 0, \"noWrap\": false, \"opacity\": 1, \"subdomains\": \"abc\", \"tms\": false}\n",
              "            ).addTo(map_98ad8edb2539cf2f5276f2e3f049f346);\n",
              "        \n",
              "    \n",
              "            var tile_layer_784b9cdab9a405f8f69988e6eea25536 = L.tileLayer(\n",
              "                \"https://earthengine.googleapis.com/v1/projects/laurabeth1418/maps/cd73169cd8a96afd7e3fd6d444f1b2ec-f04b1eacab1e49c91ab7baf24fbb0ac0/tiles/{z}/{x}/{y}\",\n",
              "                {\"attribution\": \"Google Earth Engine\", \"detectRetina\": false, \"maxNativeZoom\": 18, \"maxZoom\": 18, \"minZoom\": 0, \"noWrap\": false, \"opacity\": 1, \"subdomains\": \"abc\", \"tms\": false}\n",
              "            ).addTo(map_98ad8edb2539cf2f5276f2e3f049f346);\n",
              "        \n",
              "    \n",
              "            var tile_layer_fe94ef1924922d7ccf0e381a6d0f3ba0 = L.tileLayer(\n",
              "                \"https://earthengine.googleapis.com/v1/projects/laurabeth1418/maps/b1901f849db31db4e499f390d35dbc99-45af5d9dc8a036e93dc23aa0acfef5ec/tiles/{z}/{x}/{y}\",\n",
              "                {\"attribution\": \"Google Earth Engine\", \"detectRetina\": false, \"maxNativeZoom\": 18, \"maxZoom\": 18, \"minZoom\": 0, \"noWrap\": false, \"opacity\": 1, \"subdomains\": \"abc\", \"tms\": false}\n",
              "            ).addTo(map_98ad8edb2539cf2f5276f2e3f049f346);\n",
              "        \n",
              "    \n",
              "            var tile_layer_074e25b1b1db3141544014dc077fdd2f = L.tileLayer(\n",
              "                \"https://earthengine.googleapis.com/v1/projects/laurabeth1418/maps/7fe3a0be663e6ef45f6ad7eed06dabc8-c74b3071579a152ae17df65df70e642e/tiles/{z}/{x}/{y}\",\n",
              "                {\"attribution\": \"Google Earth Engine\", \"detectRetina\": false, \"maxNativeZoom\": 18, \"maxZoom\": 18, \"minZoom\": 0, \"noWrap\": false, \"opacity\": 1, \"subdomains\": \"abc\", \"tms\": false}\n",
              "            ).addTo(map_98ad8edb2539cf2f5276f2e3f049f346);\n",
              "        \n",
              "    \n",
              "            var tile_layer_679f177ff59b448f9ec79273585801ad = L.tileLayer(\n",
              "                \"https://earthengine.googleapis.com/v1/projects/laurabeth1418/maps/247b55db9e818c74482c136445a27713-7217369e4060cec5d2e463d865858e8c/tiles/{z}/{x}/{y}\",\n",
              "                {\"attribution\": \"Google Earth Engine\", \"detectRetina\": false, \"maxNativeZoom\": 18, \"maxZoom\": 18, \"minZoom\": 0, \"noWrap\": false, \"opacity\": 1, \"subdomains\": \"abc\", \"tms\": false}\n",
              "            ).addTo(map_98ad8edb2539cf2f5276f2e3f049f346);\n",
              "        \n",
              "    \n",
              "            var tile_layer_7ed266d39aad2628ca768c4385c6d3c7 = L.tileLayer(\n",
              "                \"https://earthengine.googleapis.com/v1/projects/laurabeth1418/maps/e0fb8a7a15650340d96afc04ef21ca28-73105283a87184c6004609d30c79bbfd/tiles/{z}/{x}/{y}\",\n",
              "                {\"attribution\": \"Google Earth Engine\", \"detectRetina\": false, \"maxNativeZoom\": 18, \"maxZoom\": 18, \"minZoom\": 0, \"noWrap\": false, \"opacity\": 1, \"subdomains\": \"abc\", \"tms\": false}\n",
              "            ).addTo(map_98ad8edb2539cf2f5276f2e3f049f346);\n",
              "        \n",
              "    \n",
              "            var tile_layer_3a657753313304321226c88c16e8225e = L.tileLayer(\n",
              "                \"https://earthengine.googleapis.com/v1/projects/laurabeth1418/maps/cc354e17ce92d8eef5b2b2d957c1d21e-a8c97b2fa4eee4626c07aa0f72ed1a3c/tiles/{z}/{x}/{y}\",\n",
              "                {\"attribution\": \"Google Earth Engine\", \"detectRetina\": false, \"maxNativeZoom\": 18, \"maxZoom\": 18, \"minZoom\": 0, \"noWrap\": false, \"opacity\": 1, \"subdomains\": \"abc\", \"tms\": false}\n",
              "            ).addTo(map_98ad8edb2539cf2f5276f2e3f049f346);\n",
              "        \n",
              "    \n",
              "            var tile_layer_d6b7e1c5dc4745adfa62b38cfa63d9de = L.tileLayer(\n",
              "                \"https://earthengine.googleapis.com/v1/projects/laurabeth1418/maps/adc734b96e34c50a346408a1eb219738-8afd499252d0abfec403761fc7a5cb90/tiles/{z}/{x}/{y}\",\n",
              "                {\"attribution\": \"Google Earth Engine\", \"detectRetina\": false, \"maxNativeZoom\": 18, \"maxZoom\": 18, \"minZoom\": 0, \"noWrap\": false, \"opacity\": 1, \"subdomains\": \"abc\", \"tms\": false}\n",
              "            ).addTo(map_98ad8edb2539cf2f5276f2e3f049f346);\n",
              "        \n",
              "    \n",
              "            var tile_layer_8df9cd9fe9cabd6fe9f6508e5fc4daa6 = L.tileLayer(\n",
              "                \"https://earthengine.googleapis.com/v1/projects/laurabeth1418/maps/45d97418cbae6208d85f8164ae7e2a2b-fbbb500d79522ca6a7259c4e99e923e3/tiles/{z}/{x}/{y}\",\n",
              "                {\"attribution\": \"Google Earth Engine\", \"detectRetina\": false, \"maxNativeZoom\": 18, \"maxZoom\": 18, \"minZoom\": 0, \"noWrap\": false, \"opacity\": 1, \"subdomains\": \"abc\", \"tms\": false}\n",
              "            ).addTo(map_98ad8edb2539cf2f5276f2e3f049f346);\n",
              "        \n",
              "    \n",
              "            var tile_layer_1e57a120e43f321a828f534f8fc4ab8d = L.tileLayer(\n",
              "                \"https://earthengine.googleapis.com/v1/projects/laurabeth1418/maps/63932c43c3bb7e8c3843f218a840e4a6-35861da3f0db51f745857d1c5fbf3354/tiles/{z}/{x}/{y}\",\n",
              "                {\"attribution\": \"Google Earth Engine\", \"detectRetina\": false, \"maxNativeZoom\": 18, \"maxZoom\": 18, \"minZoom\": 0, \"noWrap\": false, \"opacity\": 1, \"subdomains\": \"abc\", \"tms\": false}\n",
              "            ).addTo(map_98ad8edb2539cf2f5276f2e3f049f346);\n",
              "        \n",
              "    \n",
              "            var tile_layer_0ba490788c1945b2a471af64003ffb92 = L.tileLayer(\n",
              "                \"https://earthengine.googleapis.com/v1/projects/laurabeth1418/maps/a0ece2497daaa11d71fc1fa0d19d4dc4-8038b078f08c43d484cbb899e97770a7/tiles/{z}/{x}/{y}\",\n",
              "                {\"attribution\": \"Google Earth Engine\", \"detectRetina\": false, \"maxNativeZoom\": 18, \"maxZoom\": 18, \"minZoom\": 0, \"noWrap\": false, \"opacity\": 1, \"subdomains\": \"abc\", \"tms\": false}\n",
              "            ).addTo(map_98ad8edb2539cf2f5276f2e3f049f346);\n",
              "        \n",
              "    \n",
              "            var tile_layer_7243636b7a6f4bd4b48daf20afbb59bc = L.tileLayer(\n",
              "                \"https://earthengine.googleapis.com/v1/projects/laurabeth1418/maps/408bdd4f59f4aeeb44820c9b0d7e16a0-10892d1e30c228f8d4ff56d31c5fcce7/tiles/{z}/{x}/{y}\",\n",
              "                {\"attribution\": \"Google Earth Engine\", \"detectRetina\": false, \"maxNativeZoom\": 18, \"maxZoom\": 18, \"minZoom\": 0, \"noWrap\": false, \"opacity\": 1, \"subdomains\": \"abc\", \"tms\": false}\n",
              "            ).addTo(map_98ad8edb2539cf2f5276f2e3f049f346);\n",
              "        \n",
              "    \n",
              "            var tile_layer_ed438c1ee724999160131979b58dca0d = L.tileLayer(\n",
              "                \"https://earthengine.googleapis.com/v1/projects/laurabeth1418/maps/13fd4892d63f2dfcc89b8b63babd595f-f901d3437e8ff4133d429ed52ad660a7/tiles/{z}/{x}/{y}\",\n",
              "                {\"attribution\": \"Google Earth Engine\", \"detectRetina\": false, \"maxNativeZoom\": 18, \"maxZoom\": 18, \"minZoom\": 0, \"noWrap\": false, \"opacity\": 1, \"subdomains\": \"abc\", \"tms\": false}\n",
              "            ).addTo(map_98ad8edb2539cf2f5276f2e3f049f346);\n",
              "        \n",
              "    \n",
              "            var tile_layer_7f77296c68d261b0988e0c029d6afe59 = L.tileLayer(\n",
              "                \"https://earthengine.googleapis.com/v1/projects/laurabeth1418/maps/04259f362db602c23ccb255dc0b1ba38-93702774e33b67661cf336e6ee4e6929/tiles/{z}/{x}/{y}\",\n",
              "                {\"attribution\": \"Google Earth Engine\", \"detectRetina\": false, \"maxNativeZoom\": 18, \"maxZoom\": 18, \"minZoom\": 0, \"noWrap\": false, \"opacity\": 1, \"subdomains\": \"abc\", \"tms\": false}\n",
              "            ).addTo(map_98ad8edb2539cf2f5276f2e3f049f346);\n",
              "        \n",
              "    \n",
              "            var tile_layer_5cdd4f82bdd29008feba473c04707293 = L.tileLayer(\n",
              "                \"https://earthengine.googleapis.com/v1/projects/laurabeth1418/maps/65790acbc6d04b53f8fb6cdf49f47c9f-615d84ea5bd96d0e34824d889ed4d351/tiles/{z}/{x}/{y}\",\n",
              "                {\"attribution\": \"Google Earth Engine\", \"detectRetina\": false, \"maxNativeZoom\": 18, \"maxZoom\": 18, \"minZoom\": 0, \"noWrap\": false, \"opacity\": 1, \"subdomains\": \"abc\", \"tms\": false}\n",
              "            ).addTo(map_98ad8edb2539cf2f5276f2e3f049f346);\n",
              "        \n",
              "    \n",
              "            var tile_layer_df086033c727a7ce1b52c0a83488bd3f = L.tileLayer(\n",
              "                \"https://earthengine.googleapis.com/v1/projects/laurabeth1418/maps/ea9165d26c7fe10a29e8ad56cefa4658-37db99319ac11a57ec6f0cdf8eac7eb3/tiles/{z}/{x}/{y}\",\n",
              "                {\"attribution\": \"Google Earth Engine\", \"detectRetina\": false, \"maxNativeZoom\": 18, \"maxZoom\": 18, \"minZoom\": 0, \"noWrap\": false, \"opacity\": 1, \"subdomains\": \"abc\", \"tms\": false}\n",
              "            ).addTo(map_98ad8edb2539cf2f5276f2e3f049f346);\n",
              "        \n",
              "    \n",
              "            var tile_layer_c52c04b85fc4b560b18e32a2508ed97b = L.tileLayer(\n",
              "                \"https://earthengine.googleapis.com/v1/projects/laurabeth1418/maps/435c7a7bdc7b836ee63ee843dea8170d-9cbe52e4a20a33c6a415a723dc6520f8/tiles/{z}/{x}/{y}\",\n",
              "                {\"attribution\": \"Google Earth Engine\", \"detectRetina\": false, \"maxNativeZoom\": 18, \"maxZoom\": 18, \"minZoom\": 0, \"noWrap\": false, \"opacity\": 1, \"subdomains\": \"abc\", \"tms\": false}\n",
              "            ).addTo(map_98ad8edb2539cf2f5276f2e3f049f346);\n",
              "        \n",
              "    \n",
              "            var layer_control_af42e6fd6357696dcd108e351723b607 = {\n",
              "                base_layers : {\n",
              "                    \"cartodbpositron\" : tile_layer_165e09343e269ab6e8dcf38a5076efbb,\n",
              "                },\n",
              "                overlays :  {\n",
              "                    \"2014\" : tile_layer_d6b7e1c5dc4745adfa62b38cfa63d9de,\n",
              "                    \"2015\" : tile_layer_8df9cd9fe9cabd6fe9f6508e5fc4daa6,\n",
              "                    \"2016\" : tile_layer_1e57a120e43f321a828f534f8fc4ab8d,\n",
              "                    \"2017\" : tile_layer_0ba490788c1945b2a471af64003ffb92,\n",
              "                    \"2018\" : tile_layer_7243636b7a6f4bd4b48daf20afbb59bc,\n",
              "                    \"2019\" : tile_layer_ed438c1ee724999160131979b58dca0d,\n",
              "                    \"2020\" : tile_layer_7f77296c68d261b0988e0c029d6afe59,\n",
              "                    \"2021\" : tile_layer_5cdd4f82bdd29008feba473c04707293,\n",
              "                    \"2022\" : tile_layer_df086033c727a7ce1b52c0a83488bd3f,\n",
              "                    \"2023\" : tile_layer_c52c04b85fc4b560b18e32a2508ed97b,\n",
              "                },\n",
              "            };\n",
              "            L.control.layers(\n",
              "                layer_control_af42e6fd6357696dcd108e351723b607.base_layers,\n",
              "                layer_control_af42e6fd6357696dcd108e351723b607.overlays,\n",
              "                {\"autoZIndex\": true, \"collapsed\": true, \"position\": \"topright\"}\n",
              "            ).addTo(map_98ad8edb2539cf2f5276f2e3f049f346);\n",
              "        \n",
              "</script>\n",
              "</html>"
            ],
            "text/plain": [
              "<IPython.core.display.HTML object>"
            ]
          },
          "metadata": {},
          "output_type": "display_data"
        }
      ],
      "source": [
        "# Create a folium map for Galloway core and extension\n",
        "galloway_map = folium.Map(location=[55.0, -4.5], zoom_start=9, tiles='Cartodb Positron')\n",
        "for year, data in galloway_c_data.items():\n",
        "    add_ee_layer(galloway_map, data, vis_params, str(year))\n",
        "for year, data in galloway_ex_data.items():\n",
        "    add_ee_layer(galloway_map, data, vis_params, str(year))\n",
        "add_legend(galloway_map, 'Radiance (nW/cm2/sr)', colors, labels)\n",
        "galloway_map.add_child(folium.LayerControl())\n",
        "folium_deepnote_show(galloway_map)"
      ]
    },
    {
      "cell_type": "code",
      "execution_count": null,
      "metadata": {
        "colab": {
          "base_uri": "https://localhost:8080/",
          "height": 609
        },
        "id": "nFU4XY7BlNHp",
        "outputId": "07e3e359-8cd9-4a06-8295-e959b4881fbf"
      },
      "outputs": [
        {
          "data": {
            "text/html": [
              "\n",
              "            <style>\n",
              "                .geemap-dark {\n",
              "                    --jp-widgets-color: white;\n",
              "                    --jp-widgets-label-color: white;\n",
              "                    --jp-ui-font-color1: white;\n",
              "                    --jp-layout-color2: #454545;\n",
              "                    background-color: #383838;\n",
              "                }\n",
              "\n",
              "                .geemap-dark .jupyter-button {\n",
              "                    --jp-layout-color3: #383838;\n",
              "                }\n",
              "\n",
              "                .geemap-colab {\n",
              "                    background-color: var(--colab-primary-surface-color, white);\n",
              "                }\n",
              "\n",
              "                .geemap-colab .jupyter-button {\n",
              "                    --jp-layout-color3: var(--colab-primary-surface-color, white);\n",
              "                }\n",
              "            </style>\n",
              "            "
            ],
            "text/plain": [
              "<IPython.core.display.HTML object>"
            ]
          },
          "metadata": {},
          "output_type": "display_data"
        },
        {
          "data": {
            "text/html": [
              "<!DOCTYPE html>\n",
              "<html>\n",
              "<head>\n",
              "    \n",
              "    <meta http-equiv=\"content-type\" content=\"text/html; charset=UTF-8\" />\n",
              "    \n",
              "        <script>\n",
              "            L_NO_TOUCH = false;\n",
              "            L_DISABLE_3D = false;\n",
              "        </script>\n",
              "    \n",
              "    <style>html, body {width: 100%;margin: 0;padding: 0;}</style>\n",
              "    <style>#map {position:absolute;top:0;bottom:0;right:0;left:0;}</style>\n",
              "    <script src=\"https://cdn.jsdelivr.net/npm/leaflet@1.9.3/dist/leaflet.js\"></script>\n",
              "    <script src=\"https://code.jquery.com/jquery-1.12.4.min.js\"></script>\n",
              "    <script src=\"https://cdn.jsdelivr.net/npm/bootstrap@5.2.2/dist/js/bootstrap.bundle.min.js\"></script>\n",
              "    <script src=\"https://cdnjs.cloudflare.com/ajax/libs/Leaflet.awesome-markers/2.0.2/leaflet.awesome-markers.js\"></script>\n",
              "    <link rel=\"stylesheet\" href=\"https://cdn.jsdelivr.net/npm/leaflet@1.9.3/dist/leaflet.css\"/>\n",
              "    <link rel=\"stylesheet\" href=\"https://cdn.jsdelivr.net/npm/bootstrap@5.2.2/dist/css/bootstrap.min.css\"/>\n",
              "    <link rel=\"stylesheet\" href=\"https://netdna.bootstrapcdn.com/bootstrap/3.0.0/css/bootstrap.min.css\"/>\n",
              "    <link rel=\"stylesheet\" href=\"https://cdn.jsdelivr.net/npm/@fortawesome/fontawesome-free@6.2.0/css/all.min.css\"/>\n",
              "    <link rel=\"stylesheet\" href=\"https://cdnjs.cloudflare.com/ajax/libs/Leaflet.awesome-markers/2.0.2/leaflet.awesome-markers.css\"/>\n",
              "    <link rel=\"stylesheet\" href=\"https://cdn.jsdelivr.net/gh/python-visualization/folium/folium/templates/leaflet.awesome.rotate.min.css\"/>\n",
              "    \n",
              "            <meta name=\"viewport\" content=\"width=device-width,\n",
              "                initial-scale=1.0, maximum-scale=1.0, user-scalable=no\" />\n",
              "            <style>\n",
              "                #map_429300fb577c63551c030ff4790bd088 {\n",
              "                    position: relative;\n",
              "                    width: 100.0%;\n",
              "                    height: 609px;\n",
              "                    left: 0.0%;\n",
              "                    top: 0.0%;\n",
              "                }\n",
              "                .leaflet-container { font-size: 1rem; }\n",
              "            </style>\n",
              "        \n",
              "</head>\n",
              "<body>\n",
              "    \n",
              "    \n",
              "    <div style=\"position: fixed; bottom: 50px; left: 50px; width: 150px; height: 200px;\n",
              "    background-color: white; border:2px solid grey; padding:10px; z-index:9999; font-size:14px;\">\n",
              "    &nbsp; <b>Radiance (nW/cm2/sr)</b> <br>\n",
              "    \n",
              "        &nbsp; <i style=\"background:black; width:20px; height:20px; float:left; margin-right:5px;\"></i> 0-10 <br>\n",
              "        \n",
              "        &nbsp; <i style=\"background:yellow; width:20px; height:20px; float:left; margin-right:5px;\"></i> 10-20 <br>\n",
              "        \n",
              "        &nbsp; <i style=\"background:orange; width:20px; height:20px; float:left; margin-right:5px;\"></i> 20-30 <br>\n",
              "        \n",
              "        &nbsp; <i style=\"background:red; width:20px; height:20px; float:left; margin-right:5px;\"></i> 30-40 <br>\n",
              "        \n",
              "        &nbsp; <i style=\"background:green; width:20px; height:20px; float:left; margin-right:5px;\"></i> 40-50 <br>\n",
              "        \n",
              "        &nbsp; <i style=\"background:blue; width:20px; height:20px; float:left; margin-right:5px;\"></i> 50-60 <br>\n",
              "        \n",
              "        &nbsp; <i style=\"background:purple; width:20px; height:20px; float:left; margin-right:5px;\"></i> 60-100 <br>\n",
              "        </div>\n",
              "    \n",
              "            <div class=\"folium-map\" id=\"map_429300fb577c63551c030ff4790bd088\" ></div>\n",
              "        \n",
              "</body>\n",
              "<script>\n",
              "    \n",
              "    \n",
              "            var map_429300fb577c63551c030ff4790bd088 = L.map(\n",
              "                \"map_429300fb577c63551c030ff4790bd088\",\n",
              "                {\n",
              "                    center: [57.07, -3.55],\n",
              "                    crs: L.CRS.EPSG3857,\n",
              "                    zoom: 9,\n",
              "                    zoomControl: true,\n",
              "                    preferCanvas: false,\n",
              "                }\n",
              "            );\n",
              "\n",
              "            \n",
              "\n",
              "        \n",
              "    \n",
              "            var tile_layer_779fd242cfb29dd9f55276f747facf17 = L.tileLayer(\n",
              "                \"https://cartodb-basemaps-{s}.global.ssl.fastly.net/light_all/{z}/{x}/{y}.png\",\n",
              "                {\"attribution\": \"\\u0026copy; \\u003ca target=\\\"_blank\\\" href=\\\"http://www.openstreetmap.org/copyright\\\"\\u003eOpenStreetMap\\u003c/a\\u003e contributors \\u0026copy; \\u003ca target=\\\"_blank\\\" href=\\\"http://cartodb.com/attributions\\\"\\u003eCartoDB\\u003c/a\\u003e, CartoDB \\u003ca target=\\\"_blank\\\" href =\\\"http://cartodb.com/attributions\\\"\\u003eattributions\\u003c/a\\u003e\", \"detectRetina\": false, \"maxNativeZoom\": 18, \"maxZoom\": 18, \"minZoom\": 0, \"noWrap\": false, \"opacity\": 1, \"subdomains\": \"abc\", \"tms\": false}\n",
              "            ).addTo(map_429300fb577c63551c030ff4790bd088);\n",
              "        \n",
              "    \n",
              "            var tile_layer_59759daa85c18c2a89df05ddd9133e3e = L.tileLayer(\n",
              "                \"https://earthengine.googleapis.com/v1/projects/laurabeth1418/maps/568db69ce28e4095c07e7b26de291709-1c8e20a09a670cefe982ef13d2a8eef3/tiles/{z}/{x}/{y}\",\n",
              "                {\"attribution\": \"Google Earth Engine\", \"detectRetina\": false, \"maxNativeZoom\": 18, \"maxZoom\": 18, \"minZoom\": 0, \"noWrap\": false, \"opacity\": 1, \"subdomains\": \"abc\", \"tms\": false}\n",
              "            ).addTo(map_429300fb577c63551c030ff4790bd088);\n",
              "        \n",
              "    \n",
              "            var tile_layer_c6206e68a1a0394b3912016890d3e39a = L.tileLayer(\n",
              "                \"https://earthengine.googleapis.com/v1/projects/laurabeth1418/maps/1c2fa093417e61d5ff41d235abb061d4-6869fe307e17f67edb6205d6395272aa/tiles/{z}/{x}/{y}\",\n",
              "                {\"attribution\": \"Google Earth Engine\", \"detectRetina\": false, \"maxNativeZoom\": 18, \"maxZoom\": 18, \"minZoom\": 0, \"noWrap\": false, \"opacity\": 1, \"subdomains\": \"abc\", \"tms\": false}\n",
              "            ).addTo(map_429300fb577c63551c030ff4790bd088);\n",
              "        \n",
              "    \n",
              "            var tile_layer_442ac608b4f7ee67000aaebb761deec6 = L.tileLayer(\n",
              "                \"https://earthengine.googleapis.com/v1/projects/laurabeth1418/maps/83866c52ace1adbb5459c8b1c8b64cc6-7043a17ef9cbf2c6cab114c42d693f9b/tiles/{z}/{x}/{y}\",\n",
              "                {\"attribution\": \"Google Earth Engine\", \"detectRetina\": false, \"maxNativeZoom\": 18, \"maxZoom\": 18, \"minZoom\": 0, \"noWrap\": false, \"opacity\": 1, \"subdomains\": \"abc\", \"tms\": false}\n",
              "            ).addTo(map_429300fb577c63551c030ff4790bd088);\n",
              "        \n",
              "    \n",
              "            var tile_layer_326e5f0c15a32000462093fa8cbaf6a9 = L.tileLayer(\n",
              "                \"https://earthengine.googleapis.com/v1/projects/laurabeth1418/maps/a20cbfb857058d5cc8202c4d5a2dffb1-f69d9e6453105345f4a762cc2d3309d2/tiles/{z}/{x}/{y}\",\n",
              "                {\"attribution\": \"Google Earth Engine\", \"detectRetina\": false, \"maxNativeZoom\": 18, \"maxZoom\": 18, \"minZoom\": 0, \"noWrap\": false, \"opacity\": 1, \"subdomains\": \"abc\", \"tms\": false}\n",
              "            ).addTo(map_429300fb577c63551c030ff4790bd088);\n",
              "        \n",
              "    \n",
              "            var tile_layer_1a26cd77a5aa632767809fc131ee3ecc = L.tileLayer(\n",
              "                \"https://earthengine.googleapis.com/v1/projects/laurabeth1418/maps/355a71ec8af73ad926609c9a1a353dc5-a40501e7ff869b725f7be2ce19166b68/tiles/{z}/{x}/{y}\",\n",
              "                {\"attribution\": \"Google Earth Engine\", \"detectRetina\": false, \"maxNativeZoom\": 18, \"maxZoom\": 18, \"minZoom\": 0, \"noWrap\": false, \"opacity\": 1, \"subdomains\": \"abc\", \"tms\": false}\n",
              "            ).addTo(map_429300fb577c63551c030ff4790bd088);\n",
              "        \n",
              "    \n",
              "            var tile_layer_2a5b5878990fb189b74f914861d9c3a8 = L.tileLayer(\n",
              "                \"https://earthengine.googleapis.com/v1/projects/laurabeth1418/maps/cb0e059ccfc676793bd190ecd2dfa1ed-38c5c71b62c5ab74126c2479c9840223/tiles/{z}/{x}/{y}\",\n",
              "                {\"attribution\": \"Google Earth Engine\", \"detectRetina\": false, \"maxNativeZoom\": 18, \"maxZoom\": 18, \"minZoom\": 0, \"noWrap\": false, \"opacity\": 1, \"subdomains\": \"abc\", \"tms\": false}\n",
              "            ).addTo(map_429300fb577c63551c030ff4790bd088);\n",
              "        \n",
              "    \n",
              "            var tile_layer_da42293f29272fd4bf4c37be210b635c = L.tileLayer(\n",
              "                \"https://earthengine.googleapis.com/v1/projects/laurabeth1418/maps/240bc2c0aecac2cc002153df1084dcbc-afae7d2361b754ebd87bc232881afa72/tiles/{z}/{x}/{y}\",\n",
              "                {\"attribution\": \"Google Earth Engine\", \"detectRetina\": false, \"maxNativeZoom\": 18, \"maxZoom\": 18, \"minZoom\": 0, \"noWrap\": false, \"opacity\": 1, \"subdomains\": \"abc\", \"tms\": false}\n",
              "            ).addTo(map_429300fb577c63551c030ff4790bd088);\n",
              "        \n",
              "    \n",
              "            var tile_layer_f1d1287d5fdb2f7f51161aa5d7c1ea3a = L.tileLayer(\n",
              "                \"https://earthengine.googleapis.com/v1/projects/laurabeth1418/maps/f2e028474c3d3dd312c04b9d19a3ef36-cf9ec5102c989fe86f9e3ffd5e8dd7df/tiles/{z}/{x}/{y}\",\n",
              "                {\"attribution\": \"Google Earth Engine\", \"detectRetina\": false, \"maxNativeZoom\": 18, \"maxZoom\": 18, \"minZoom\": 0, \"noWrap\": false, \"opacity\": 1, \"subdomains\": \"abc\", \"tms\": false}\n",
              "            ).addTo(map_429300fb577c63551c030ff4790bd088);\n",
              "        \n",
              "    \n",
              "            var tile_layer_702066e09d4fbe09d41419ce46a74115 = L.tileLayer(\n",
              "                \"https://earthengine.googleapis.com/v1/projects/laurabeth1418/maps/1adbd5ffe47c07e22d7a79a62b293325-3108593e5a98765c800a3f035ccd0b43/tiles/{z}/{x}/{y}\",\n",
              "                {\"attribution\": \"Google Earth Engine\", \"detectRetina\": false, \"maxNativeZoom\": 18, \"maxZoom\": 18, \"minZoom\": 0, \"noWrap\": false, \"opacity\": 1, \"subdomains\": \"abc\", \"tms\": false}\n",
              "            ).addTo(map_429300fb577c63551c030ff4790bd088);\n",
              "        \n",
              "    \n",
              "            var tile_layer_901d539a32ca5f9c7109338a993dfed8 = L.tileLayer(\n",
              "                \"https://earthengine.googleapis.com/v1/projects/laurabeth1418/maps/f4011e8eefc4b069e63a17a2a9ade940-cafb060e390b9f07ed31d81941d58e6d/tiles/{z}/{x}/{y}\",\n",
              "                {\"attribution\": \"Google Earth Engine\", \"detectRetina\": false, \"maxNativeZoom\": 18, \"maxZoom\": 18, \"minZoom\": 0, \"noWrap\": false, \"opacity\": 1, \"subdomains\": \"abc\", \"tms\": false}\n",
              "            ).addTo(map_429300fb577c63551c030ff4790bd088);\n",
              "        \n",
              "    \n",
              "            var layer_control_0a262258c2e161b45d4facda6384f1dc = {\n",
              "                base_layers : {\n",
              "                    \"cartodbpositron\" : tile_layer_779fd242cfb29dd9f55276f747facf17,\n",
              "                },\n",
              "                overlays :  {\n",
              "                    \"2014\" : tile_layer_59759daa85c18c2a89df05ddd9133e3e,\n",
              "                    \"2015\" : tile_layer_c6206e68a1a0394b3912016890d3e39a,\n",
              "                    \"2016\" : tile_layer_442ac608b4f7ee67000aaebb761deec6,\n",
              "                    \"2017\" : tile_layer_326e5f0c15a32000462093fa8cbaf6a9,\n",
              "                    \"2018\" : tile_layer_1a26cd77a5aa632767809fc131ee3ecc,\n",
              "                    \"2019\" : tile_layer_2a5b5878990fb189b74f914861d9c3a8,\n",
              "                    \"2020\" : tile_layer_da42293f29272fd4bf4c37be210b635c,\n",
              "                    \"2021\" : tile_layer_f1d1287d5fdb2f7f51161aa5d7c1ea3a,\n",
              "                    \"2022\" : tile_layer_702066e09d4fbe09d41419ce46a74115,\n",
              "                    \"2023\" : tile_layer_901d539a32ca5f9c7109338a993dfed8,\n",
              "                },\n",
              "            };\n",
              "            L.control.layers(\n",
              "                layer_control_0a262258c2e161b45d4facda6384f1dc.base_layers,\n",
              "                layer_control_0a262258c2e161b45d4facda6384f1dc.overlays,\n",
              "                {\"autoZIndex\": true, \"collapsed\": true, \"position\": \"topright\"}\n",
              "            ).addTo(map_429300fb577c63551c030ff4790bd088);\n",
              "        \n",
              "</script>\n",
              "</html>"
            ],
            "text/plain": [
              "<IPython.core.display.HTML object>"
            ]
          },
          "metadata": {},
          "output_type": "display_data"
        }
      ],
      "source": [
        "# Create a folium map for Tomintoul\n",
        "aoi_T_map = folium.Map(location=[57.07, -3.55], zoom_start=9, tiles='Cartodb Positron')\n",
        "for year, data in aoi_T_data.items():\n",
        "    add_ee_layer(aoi_T_map, data, vis_params, str(year))\n",
        "add_legend(aoi_T_map, 'Radiance (nW/cm2/sr)', colors, labels)\n",
        "aoi_T_map.add_child(folium.LayerControl())\n",
        "folium_deepnote_show(aoi_T_map)"
      ]
    },
    {
      "cell_type": "code",
      "source": [
        "# Create a folium map to make sure whole buffer area is covered\n",
        "aoi_Test_map = folium.Map(location=[55.0, -4.5], zoom_start=9, tiles='Cartodb Positron')\n",
        "for year, data in aoi_T_inc_data.items():\n",
        "    add_ee_layer(aoi_Test_map, data, vis_params, str(year))\n",
        "add_legend(aoi_Test_map, 'Radiance (nW/cm2/sr)', colors, labels)\n",
        "aoi_Test_map.add_child(folium.LayerControl())\n",
        "folium_deepnote_show(aoi_Test_map)"
      ],
      "metadata": {
        "colab": {
          "base_uri": "https://localhost:8080/",
          "height": 609
        },
        "id": "eF0t8BOEQFm3",
        "outputId": "cc9284c9-3b56-434d-fae1-7b4accfc027e"
      },
      "execution_count": null,
      "outputs": [
        {
          "output_type": "display_data",
          "data": {
            "text/plain": [
              "<IPython.core.display.HTML object>"
            ],
            "text/html": [
              "\n",
              "            <style>\n",
              "                .geemap-dark {\n",
              "                    --jp-widgets-color: white;\n",
              "                    --jp-widgets-label-color: white;\n",
              "                    --jp-ui-font-color1: white;\n",
              "                    --jp-layout-color2: #454545;\n",
              "                    background-color: #383838;\n",
              "                }\n",
              "\n",
              "                .geemap-dark .jupyter-button {\n",
              "                    --jp-layout-color3: #383838;\n",
              "                }\n",
              "\n",
              "                .geemap-colab {\n",
              "                    background-color: var(--colab-primary-surface-color, white);\n",
              "                }\n",
              "\n",
              "                .geemap-colab .jupyter-button {\n",
              "                    --jp-layout-color3: var(--colab-primary-surface-color, white);\n",
              "                }\n",
              "            </style>\n",
              "            "
            ]
          },
          "metadata": {}
        },
        {
          "output_type": "display_data",
          "data": {
            "text/plain": [
              "<IPython.core.display.HTML object>"
            ],
            "text/html": [
              "<!DOCTYPE html>\n",
              "<html>\n",
              "<head>\n",
              "    \n",
              "    <meta http-equiv=\"content-type\" content=\"text/html; charset=UTF-8\" />\n",
              "    \n",
              "        <script>\n",
              "            L_NO_TOUCH = false;\n",
              "            L_DISABLE_3D = false;\n",
              "        </script>\n",
              "    \n",
              "    <style>html, body {width: 100%;margin: 0;padding: 0;}</style>\n",
              "    <style>#map {position:absolute;top:0;bottom:0;right:0;left:0;}</style>\n",
              "    <script src=\"https://cdn.jsdelivr.net/npm/leaflet@1.9.3/dist/leaflet.js\"></script>\n",
              "    <script src=\"https://code.jquery.com/jquery-1.12.4.min.js\"></script>\n",
              "    <script src=\"https://cdn.jsdelivr.net/npm/bootstrap@5.2.2/dist/js/bootstrap.bundle.min.js\"></script>\n",
              "    <script src=\"https://cdnjs.cloudflare.com/ajax/libs/Leaflet.awesome-markers/2.0.2/leaflet.awesome-markers.js\"></script>\n",
              "    <link rel=\"stylesheet\" href=\"https://cdn.jsdelivr.net/npm/leaflet@1.9.3/dist/leaflet.css\"/>\n",
              "    <link rel=\"stylesheet\" href=\"https://cdn.jsdelivr.net/npm/bootstrap@5.2.2/dist/css/bootstrap.min.css\"/>\n",
              "    <link rel=\"stylesheet\" href=\"https://netdna.bootstrapcdn.com/bootstrap/3.0.0/css/bootstrap.min.css\"/>\n",
              "    <link rel=\"stylesheet\" href=\"https://cdn.jsdelivr.net/npm/@fortawesome/fontawesome-free@6.2.0/css/all.min.css\"/>\n",
              "    <link rel=\"stylesheet\" href=\"https://cdnjs.cloudflare.com/ajax/libs/Leaflet.awesome-markers/2.0.2/leaflet.awesome-markers.css\"/>\n",
              "    <link rel=\"stylesheet\" href=\"https://cdn.jsdelivr.net/gh/python-visualization/folium/folium/templates/leaflet.awesome.rotate.min.css\"/>\n",
              "    \n",
              "            <meta name=\"viewport\" content=\"width=device-width,\n",
              "                initial-scale=1.0, maximum-scale=1.0, user-scalable=no\" />\n",
              "            <style>\n",
              "                #map_53020808ef311545df06390eaaaee266 {\n",
              "                    position: relative;\n",
              "                    width: 100.0%;\n",
              "                    height: 609px;\n",
              "                    left: 0.0%;\n",
              "                    top: 0.0%;\n",
              "                }\n",
              "                .leaflet-container { font-size: 1rem; }\n",
              "            </style>\n",
              "        \n",
              "</head>\n",
              "<body>\n",
              "    \n",
              "    \n",
              "    <div style=\"position: fixed; bottom: 50px; left: 50px; width: 150px; height: 200px;\n",
              "    background-color: white; border:2px solid grey; padding:10px; z-index:9999; font-size:14px;\">\n",
              "    &nbsp; <b>Radiance (nW/cm2/sr)</b> <br>\n",
              "    \n",
              "        &nbsp; <i style=\"background:black; width:20px; height:20px; float:left; margin-right:5px;\"></i> 0-10 <br>\n",
              "        \n",
              "        &nbsp; <i style=\"background:yellow; width:20px; height:20px; float:left; margin-right:5px;\"></i> 10-20 <br>\n",
              "        \n",
              "        &nbsp; <i style=\"background:orange; width:20px; height:20px; float:left; margin-right:5px;\"></i> 20-30 <br>\n",
              "        \n",
              "        &nbsp; <i style=\"background:red; width:20px; height:20px; float:left; margin-right:5px;\"></i> 30-40 <br>\n",
              "        \n",
              "        &nbsp; <i style=\"background:green; width:20px; height:20px; float:left; margin-right:5px;\"></i> 40-50 <br>\n",
              "        \n",
              "        &nbsp; <i style=\"background:blue; width:20px; height:20px; float:left; margin-right:5px;\"></i> 50-60 <br>\n",
              "        \n",
              "        &nbsp; <i style=\"background:purple; width:20px; height:20px; float:left; margin-right:5px;\"></i> 60-100 <br>\n",
              "        </div>\n",
              "    \n",
              "            <div class=\"folium-map\" id=\"map_53020808ef311545df06390eaaaee266\" ></div>\n",
              "        \n",
              "</body>\n",
              "<script>\n",
              "    \n",
              "    \n",
              "            var map_53020808ef311545df06390eaaaee266 = L.map(\n",
              "                \"map_53020808ef311545df06390eaaaee266\",\n",
              "                {\n",
              "                    center: [55.0, -4.5],\n",
              "                    crs: L.CRS.EPSG3857,\n",
              "                    zoom: 9,\n",
              "                    zoomControl: true,\n",
              "                    preferCanvas: false,\n",
              "                }\n",
              "            );\n",
              "\n",
              "            \n",
              "\n",
              "        \n",
              "    \n",
              "            var tile_layer_9e1d3ed802a1bd66c8ff949992f7428d = L.tileLayer(\n",
              "                \"https://cartodb-basemaps-{s}.global.ssl.fastly.net/light_all/{z}/{x}/{y}.png\",\n",
              "                {\"attribution\": \"\\u0026copy; \\u003ca target=\\\"_blank\\\" href=\\\"http://www.openstreetmap.org/copyright\\\"\\u003eOpenStreetMap\\u003c/a\\u003e contributors \\u0026copy; \\u003ca target=\\\"_blank\\\" href=\\\"http://cartodb.com/attributions\\\"\\u003eCartoDB\\u003c/a\\u003e, CartoDB \\u003ca target=\\\"_blank\\\" href =\\\"http://cartodb.com/attributions\\\"\\u003eattributions\\u003c/a\\u003e\", \"detectRetina\": false, \"maxNativeZoom\": 18, \"maxZoom\": 18, \"minZoom\": 0, \"noWrap\": false, \"opacity\": 1, \"subdomains\": \"abc\", \"tms\": false}\n",
              "            ).addTo(map_53020808ef311545df06390eaaaee266);\n",
              "        \n",
              "    \n",
              "            var tile_layer_ee814912a0f17e6dad90bdda1996bac3 = L.tileLayer(\n",
              "                \"https://earthengine.googleapis.com/v1/projects/laurabeth1418/maps/869cab79a3ade7ffe5100245cb47d2d7-a88d9cfacfc8013d50dd8dd4d41e91cc/tiles/{z}/{x}/{y}\",\n",
              "                {\"attribution\": \"Google Earth Engine\", \"detectRetina\": false, \"maxNativeZoom\": 18, \"maxZoom\": 18, \"minZoom\": 0, \"noWrap\": false, \"opacity\": 1, \"subdomains\": \"abc\", \"tms\": false}\n",
              "            ).addTo(map_53020808ef311545df06390eaaaee266);\n",
              "        \n",
              "    \n",
              "            var tile_layer_4cf3b475927197693b4af3de111795c2 = L.tileLayer(\n",
              "                \"https://earthengine.googleapis.com/v1/projects/laurabeth1418/maps/52021b6e1e4fad2032c8df262760ff2b-f50010129b8e1a7453e0e3d07951087a/tiles/{z}/{x}/{y}\",\n",
              "                {\"attribution\": \"Google Earth Engine\", \"detectRetina\": false, \"maxNativeZoom\": 18, \"maxZoom\": 18, \"minZoom\": 0, \"noWrap\": false, \"opacity\": 1, \"subdomains\": \"abc\", \"tms\": false}\n",
              "            ).addTo(map_53020808ef311545df06390eaaaee266);\n",
              "        \n",
              "    \n",
              "            var tile_layer_667f2f608bbcf79c9c507fc4e109c224 = L.tileLayer(\n",
              "                \"https://earthengine.googleapis.com/v1/projects/laurabeth1418/maps/7b82ed5fa0047585ddd56c3be70a5de0-bc3ad7271907264cf4cf654ba2320c90/tiles/{z}/{x}/{y}\",\n",
              "                {\"attribution\": \"Google Earth Engine\", \"detectRetina\": false, \"maxNativeZoom\": 18, \"maxZoom\": 18, \"minZoom\": 0, \"noWrap\": false, \"opacity\": 1, \"subdomains\": \"abc\", \"tms\": false}\n",
              "            ).addTo(map_53020808ef311545df06390eaaaee266);\n",
              "        \n",
              "    \n",
              "            var tile_layer_44e3b18edc6729fbe71234d6e9c04317 = L.tileLayer(\n",
              "                \"https://earthengine.googleapis.com/v1/projects/laurabeth1418/maps/0f9267034aa15dd9aabe80ad98d8d3bc-287a8e997eced972dafb6ec59a10f8fe/tiles/{z}/{x}/{y}\",\n",
              "                {\"attribution\": \"Google Earth Engine\", \"detectRetina\": false, \"maxNativeZoom\": 18, \"maxZoom\": 18, \"minZoom\": 0, \"noWrap\": false, \"opacity\": 1, \"subdomains\": \"abc\", \"tms\": false}\n",
              "            ).addTo(map_53020808ef311545df06390eaaaee266);\n",
              "        \n",
              "    \n",
              "            var tile_layer_4f4ba7b7996a2dd8fcfec7a31f6270fd = L.tileLayer(\n",
              "                \"https://earthengine.googleapis.com/v1/projects/laurabeth1418/maps/9ea8c44d450afdacdd0627ec2623a03d-f96a039464d055be123473133faaa7f6/tiles/{z}/{x}/{y}\",\n",
              "                {\"attribution\": \"Google Earth Engine\", \"detectRetina\": false, \"maxNativeZoom\": 18, \"maxZoom\": 18, \"minZoom\": 0, \"noWrap\": false, \"opacity\": 1, \"subdomains\": \"abc\", \"tms\": false}\n",
              "            ).addTo(map_53020808ef311545df06390eaaaee266);\n",
              "        \n",
              "    \n",
              "            var tile_layer_1c57eca408f31a8904fbf1e85e99b1cc = L.tileLayer(\n",
              "                \"https://earthengine.googleapis.com/v1/projects/laurabeth1418/maps/fbb388797a331fde0e0efa6f0a9e8ea6-9a8f041c591d9df07b744d151fc41197/tiles/{z}/{x}/{y}\",\n",
              "                {\"attribution\": \"Google Earth Engine\", \"detectRetina\": false, \"maxNativeZoom\": 18, \"maxZoom\": 18, \"minZoom\": 0, \"noWrap\": false, \"opacity\": 1, \"subdomains\": \"abc\", \"tms\": false}\n",
              "            ).addTo(map_53020808ef311545df06390eaaaee266);\n",
              "        \n",
              "    \n",
              "            var layer_control_44a75e8362558a27a5b6138fe469b8d9 = {\n",
              "                base_layers : {\n",
              "                    \"cartodbpositron\" : tile_layer_9e1d3ed802a1bd66c8ff949992f7428d,\n",
              "                },\n",
              "                overlays :  {\n",
              "                    \"2018\" : tile_layer_ee814912a0f17e6dad90bdda1996bac3,\n",
              "                    \"2019\" : tile_layer_4cf3b475927197693b4af3de111795c2,\n",
              "                    \"2020\" : tile_layer_667f2f608bbcf79c9c507fc4e109c224,\n",
              "                    \"2021\" : tile_layer_44e3b18edc6729fbe71234d6e9c04317,\n",
              "                    \"2022\" : tile_layer_4f4ba7b7996a2dd8fcfec7a31f6270fd,\n",
              "                    \"2023\" : tile_layer_1c57eca408f31a8904fbf1e85e99b1cc,\n",
              "                },\n",
              "            };\n",
              "            L.control.layers(\n",
              "                layer_control_44a75e8362558a27a5b6138fe469b8d9.base_layers,\n",
              "                layer_control_44a75e8362558a27a5b6138fe469b8d9.overlays,\n",
              "                {\"autoZIndex\": true, \"collapsed\": true, \"position\": \"topright\"}\n",
              "            ).addTo(map_53020808ef311545df06390eaaaee266);\n",
              "        \n",
              "</script>\n",
              "</html>"
            ]
          },
          "metadata": {}
        }
      ]
    },
    {
      "cell_type": "markdown",
      "metadata": {
        "id": "7V3V-vPfu1-r"
      },
      "source": [
        "#Now i will export all these to drive as Tiff's for use in ArcGIS"
      ]
    },
    {
      "cell_type": "code",
      "execution_count": null,
      "metadata": {
        "id": "AGVblAoPowef",
        "colab": {
          "base_uri": "https://localhost:8080/",
          "height": 1000
        },
        "outputId": "e328d89d-dda5-408c-d5ec-12a93070cb01"
      },
      "outputs": [
        {
          "output_type": "display_data",
          "data": {
            "text/plain": [
              "<IPython.core.display.HTML object>"
            ],
            "text/html": [
              "\n",
              "            <style>\n",
              "                .geemap-dark {\n",
              "                    --jp-widgets-color: white;\n",
              "                    --jp-widgets-label-color: white;\n",
              "                    --jp-ui-font-color1: white;\n",
              "                    --jp-layout-color2: #454545;\n",
              "                    background-color: #383838;\n",
              "                }\n",
              "\n",
              "                .geemap-dark .jupyter-button {\n",
              "                    --jp-layout-color3: #383838;\n",
              "                }\n",
              "\n",
              "                .geemap-colab {\n",
              "                    background-color: var(--colab-primary-surface-color, white);\n",
              "                }\n",
              "\n",
              "                .geemap-colab .jupyter-button {\n",
              "                    --jp-layout-color3: var(--colab-primary-surface-color, white);\n",
              "                }\n",
              "            </style>\n",
              "            "
            ]
          },
          "metadata": {}
        },
        {
          "output_type": "stream",
          "name": "stdout",
          "text": [
            "{'state': 'READY', 'description': 'VIIRS_Tomintoul_inclusive_2023', 'priority': 100, 'creation_timestamp_ms': 1720609504439, 'update_timestamp_ms': 1720609504439, 'start_timestamp_ms': 0, 'task_type': 'EXPORT_IMAGE', 'id': 'RFZR6RALCFCF4KCEHMRE4RIB', 'name': 'projects/laurabeth1418/operations/RFZR6RALCFCF4KCEHMRE4RIB'}\n",
            "{'state': 'READY', 'description': 'VIIRS_Tomintoul_inclusive_2022', 'priority': 100, 'creation_timestamp_ms': 1720609504078, 'update_timestamp_ms': 1720609504078, 'start_timestamp_ms': 0, 'task_type': 'EXPORT_IMAGE', 'id': 'RB7CHDSQCZECGYJA2MXCN77S', 'name': 'projects/laurabeth1418/operations/RB7CHDSQCZECGYJA2MXCN77S'}\n",
            "{'state': 'READY', 'description': 'VIIRS_Tomintoul_inclusive_2021', 'priority': 100, 'creation_timestamp_ms': 1720609503560, 'update_timestamp_ms': 1720609503560, 'start_timestamp_ms': 0, 'task_type': 'EXPORT_IMAGE', 'id': '4EEBUHEWA2EL4MZULWPKNIBK', 'name': 'projects/laurabeth1418/operations/4EEBUHEWA2EL4MZULWPKNIBK'}\n",
            "{'state': 'READY', 'description': 'VIIRS_Tomintoul_inclusive_2020', 'priority': 100, 'creation_timestamp_ms': 1720609503194, 'update_timestamp_ms': 1720609503194, 'start_timestamp_ms': 0, 'task_type': 'EXPORT_IMAGE', 'id': 'CINVDXW7MZLZUXF2IIQTPF3R', 'name': 'projects/laurabeth1418/operations/CINVDXW7MZLZUXF2IIQTPF3R'}\n",
            "{'state': 'READY', 'description': 'VIIRS_Tomintoul_inclusive_2019', 'priority': 100, 'creation_timestamp_ms': 1720609502861, 'update_timestamp_ms': 1720609502861, 'start_timestamp_ms': 0, 'task_type': 'EXPORT_IMAGE', 'id': 'SWHGEZBPGSFFJWWGZ5US46CI', 'name': 'projects/laurabeth1418/operations/SWHGEZBPGSFFJWWGZ5US46CI'}\n",
            "{'state': 'READY', 'description': 'VIIRS_Tomintoul_inclusive_2018', 'priority': 100, 'creation_timestamp_ms': 1720609502464, 'update_timestamp_ms': 1720609502464, 'start_timestamp_ms': 0, 'task_type': 'EXPORT_IMAGE', 'id': 'ZLWZSPMXHW44PR6V4BSRWZ7U', 'name': 'projects/laurabeth1418/operations/ZLWZSPMXHW44PR6V4BSRWZ7U'}\n",
            "{'state': 'READY', 'description': 'VIIRS_Tomintoul_inclusive_2017', 'priority': 100, 'creation_timestamp_ms': 1720609502071, 'update_timestamp_ms': 1720609502071, 'start_timestamp_ms': 0, 'task_type': 'EXPORT_IMAGE', 'id': 'EPSAGKRONA4GB5M6CNMUZNC3', 'name': 'projects/laurabeth1418/operations/EPSAGKRONA4GB5M6CNMUZNC3'}\n",
            "{'state': 'READY', 'description': 'VIIRS_Tomintoul_inclusive_2016', 'priority': 100, 'creation_timestamp_ms': 1720609501712, 'update_timestamp_ms': 1720609501712, 'start_timestamp_ms': 0, 'task_type': 'EXPORT_IMAGE', 'id': 'CPWOFLZFFLDSPIQUQ6P2JYBT', 'name': 'projects/laurabeth1418/operations/CPWOFLZFFLDSPIQUQ6P2JYBT'}\n",
            "{'state': 'READY', 'description': 'VIIRS_Tomintoul_inclusive_2015', 'priority': 100, 'creation_timestamp_ms': 1720609501318, 'update_timestamp_ms': 1720609501318, 'start_timestamp_ms': 0, 'task_type': 'EXPORT_IMAGE', 'id': 'J3KBAMABEYLGSGFLKVGE4VXP', 'name': 'projects/laurabeth1418/operations/J3KBAMABEYLGSGFLKVGE4VXP'}\n",
            "{'state': 'READY', 'description': 'VIIRS_Tomintoul_inclusive_2014', 'priority': 100, 'creation_timestamp_ms': 1720609501019, 'update_timestamp_ms': 1720609501019, 'start_timestamp_ms': 0, 'task_type': 'EXPORT_IMAGE', 'id': 'J3KRPNSVFOL7IAPCTLR37GQ7', 'name': 'projects/laurabeth1418/operations/J3KRPNSVFOL7IAPCTLR37GQ7'}\n",
            "{'state': 'READY', 'description': 'VIIRS_Galloway_all_2023', 'priority': 100, 'creation_timestamp_ms': 1720609500580, 'update_timestamp_ms': 1720609500580, 'start_timestamp_ms': 0, 'task_type': 'EXPORT_IMAGE', 'id': 'WZQSCBQZ5UEKNQLQAFUB6IOT', 'name': 'projects/laurabeth1418/operations/WZQSCBQZ5UEKNQLQAFUB6IOT'}\n",
            "{'state': 'READY', 'description': 'VIIRS_Galloway_all_2022', 'priority': 100, 'creation_timestamp_ms': 1720609498696, 'update_timestamp_ms': 1720609498696, 'start_timestamp_ms': 0, 'task_type': 'EXPORT_IMAGE', 'id': 'IK4GG6WATBTNXOT2MY3N7RUV', 'name': 'projects/laurabeth1418/operations/IK4GG6WATBTNXOT2MY3N7RUV'}\n",
            "{'state': 'READY', 'description': 'VIIRS_Galloway_all_2021', 'priority': 100, 'creation_timestamp_ms': 1720609496903, 'update_timestamp_ms': 1720609504507, 'start_timestamp_ms': 0, 'task_type': 'EXPORT_IMAGE', 'id': 'YQC34SAFBWYXQIO6L26NSCYT', 'name': 'projects/laurabeth1418/operations/YQC34SAFBWYXQIO6L26NSCYT'}\n",
            "{'state': 'READY', 'description': 'VIIRS_Galloway_all_2020', 'priority': 100, 'creation_timestamp_ms': 1720609495006, 'update_timestamp_ms': 1720609499655, 'start_timestamp_ms': 0, 'task_type': 'EXPORT_IMAGE', 'id': '7P2NL6TRE5O2CJH7AEQRDJBE', 'name': 'projects/laurabeth1418/operations/7P2NL6TRE5O2CJH7AEQRDJBE'}\n",
            "{'state': 'READY', 'description': 'VIIRS_Galloway_all_2019', 'priority': 100, 'creation_timestamp_ms': 1720609492941, 'update_timestamp_ms': 1720609496737, 'start_timestamp_ms': 0, 'task_type': 'EXPORT_IMAGE', 'id': 'BXUQ5JO3TW4YRPPDNSNNTZFB', 'name': 'projects/laurabeth1418/operations/BXUQ5JO3TW4YRPPDNSNNTZFB'}\n",
            "{'state': 'READY', 'description': 'VIIRS_Galloway_all_2018', 'priority': 100, 'creation_timestamp_ms': 1720609491075, 'update_timestamp_ms': 1720609496737, 'start_timestamp_ms': 0, 'task_type': 'EXPORT_IMAGE', 'id': 'VF56DJGKMRFGHLLHLEZWEXB3', 'name': 'projects/laurabeth1418/operations/VF56DJGKMRFGHLLHLEZWEXB3'}\n",
            "{'state': 'READY', 'description': 'VIIRS_Galloway_all_2017', 'priority': 100, 'creation_timestamp_ms': 1720609489163, 'update_timestamp_ms': 1720609493110, 'start_timestamp_ms': 0, 'task_type': 'EXPORT_IMAGE', 'id': 'QMEVFZQAVTP2IAXB4KU4MM2Z', 'name': 'projects/laurabeth1418/operations/QMEVFZQAVTP2IAXB4KU4MM2Z'}\n",
            "{'state': 'READY', 'description': 'VIIRS_Galloway_all_2016', 'priority': 100, 'creation_timestamp_ms': 1720609487165, 'update_timestamp_ms': 1720609490091, 'start_timestamp_ms': 0, 'task_type': 'EXPORT_IMAGE', 'id': 'JZPQ32RO65IRBIT4UKXCUIDT', 'name': 'projects/laurabeth1418/operations/JZPQ32RO65IRBIT4UKXCUIDT'}\n",
            "{'state': 'READY', 'description': 'VIIRS_Galloway_all_2015', 'priority': 100, 'creation_timestamp_ms': 1720609485204, 'update_timestamp_ms': 1720609490090, 'start_timestamp_ms': 0, 'task_type': 'EXPORT_IMAGE', 'id': 'K344WGSMKG2KZD6G2LMSXD7B', 'name': 'projects/laurabeth1418/operations/K344WGSMKG2KZD6G2LMSXD7B'}\n",
            "{'state': 'READY', 'description': 'VIIRS_Galloway_all_2014', 'priority': 100, 'creation_timestamp_ms': 1720609483389, 'update_timestamp_ms': 1720609486996, 'start_timestamp_ms': 0, 'task_type': 'EXPORT_IMAGE', 'id': 'GGYUOJ62UIIV3DGNH7EC3U7A', 'name': 'projects/laurabeth1418/operations/GGYUOJ62UIIV3DGNH7EC3U7A'}\n",
            "{'state': 'READY', 'description': 'VIIRS_Tomintoul_inclusive_2023', 'priority': 100, 'creation_timestamp_ms': 1720609445074, 'update_timestamp_ms': 1720609448592, 'start_timestamp_ms': 0, 'task_type': 'EXPORT_IMAGE', 'id': 'ZTDHA7O4LL26EJ4X5APTKXXR', 'name': 'projects/laurabeth1418/operations/ZTDHA7O4LL26EJ4X5APTKXXR'}\n",
            "{'state': 'READY', 'description': 'VIIRS_Tomintoul_inclusive_2022', 'priority': 100, 'creation_timestamp_ms': 1720609444791, 'update_timestamp_ms': 1720609448595, 'start_timestamp_ms': 0, 'task_type': 'EXPORT_IMAGE', 'id': 'HP7EOO36YH7R6RPOMUQTLCXE', 'name': 'projects/laurabeth1418/operations/HP7EOO36YH7R6RPOMUQTLCXE'}\n",
            "{'state': 'READY', 'description': 'VIIRS_Tomintoul_inclusive_2021', 'priority': 100, 'creation_timestamp_ms': 1720609444415, 'update_timestamp_ms': 1720609448587, 'start_timestamp_ms': 0, 'task_type': 'EXPORT_IMAGE', 'id': '6H7YARFA5KF73PXDPD5T7BNK', 'name': 'projects/laurabeth1418/operations/6H7YARFA5KF73PXDPD5T7BNK'}\n",
            "{'state': 'READY', 'description': 'VIIRS_Tomintoul_inclusive_2020', 'priority': 100, 'creation_timestamp_ms': 1720609444014, 'update_timestamp_ms': 1720609448595, 'start_timestamp_ms': 0, 'task_type': 'EXPORT_IMAGE', 'id': '2T4MNUWQAGRIGGSNRBABRRTB', 'name': 'projects/laurabeth1418/operations/2T4MNUWQAGRIGGSNRBABRRTB'}\n",
            "{'state': 'READY', 'description': 'VIIRS_Tomintoul_inclusive_2019', 'priority': 100, 'creation_timestamp_ms': 1720609443564, 'update_timestamp_ms': 1720609448594, 'start_timestamp_ms': 0, 'task_type': 'EXPORT_IMAGE', 'id': 'CSNAXTJ7RV5ZNZ6MSXU4UL4D', 'name': 'projects/laurabeth1418/operations/CSNAXTJ7RV5ZNZ6MSXU4UL4D'}\n",
            "{'state': 'READY', 'description': 'VIIRS_Tomintoul_inclusive_2018', 'priority': 100, 'creation_timestamp_ms': 1720609443170, 'update_timestamp_ms': 1720609448592, 'start_timestamp_ms': 0, 'task_type': 'EXPORT_IMAGE', 'id': 'GDG5NLA53TZSSNNL6QMGUS5O', 'name': 'projects/laurabeth1418/operations/GDG5NLA53TZSSNNL6QMGUS5O'}\n",
            "{'state': 'READY', 'description': 'VIIRS_Tomintoul_inclusive_2017', 'priority': 100, 'creation_timestamp_ms': 1720609442772, 'update_timestamp_ms': 1720609448590, 'start_timestamp_ms': 0, 'task_type': 'EXPORT_IMAGE', 'id': 'AUN6QY4DYOD4QUXJWBGKTKIL', 'name': 'projects/laurabeth1418/operations/AUN6QY4DYOD4QUXJWBGKTKIL'}\n",
            "{'state': 'READY', 'description': 'VIIRS_Tomintoul_inclusive_2016', 'priority': 100, 'creation_timestamp_ms': 1720609442360, 'update_timestamp_ms': 1720609445525, 'start_timestamp_ms': 0, 'task_type': 'EXPORT_IMAGE', 'id': 'WCCYBGR7T5YLYSJCRSZP3K75', 'name': 'projects/laurabeth1418/operations/WCCYBGR7T5YLYSJCRSZP3K75'}\n",
            "{'state': 'RUNNING', 'description': 'VIIRS_Tomintoul_inclusive_2015', 'priority': 100, 'creation_timestamp_ms': 1720609441950, 'update_timestamp_ms': 1720609507707, 'start_timestamp_ms': 1720609507671, 'task_type': 'EXPORT_IMAGE', 'attempt': 1, 'id': 'X4UJQ2HY3FMOX33WNZCJT35H', 'name': 'projects/laurabeth1418/operations/X4UJQ2HY3FMOX33WNZCJT35H'}\n",
            "{'state': 'RUNNING', 'description': 'VIIRS_Tomintoul_inclusive_2014', 'priority': 100, 'creation_timestamp_ms': 1720609441586, 'update_timestamp_ms': 1720609507678, 'start_timestamp_ms': 1720609504479, 'task_type': 'EXPORT_IMAGE', 'attempt': 1, 'id': 'D3OE7PO2IUHBUNU537KRUY2K', 'name': 'projects/laurabeth1418/operations/D3OE7PO2IUHBUNU537KRUY2K'}\n",
            "{'state': 'RUNNING', 'description': 'VIIRS_Galloway_all_2023', 'priority': 100, 'creation_timestamp_ms': 1720609441240, 'update_timestamp_ms': 1720609510147, 'start_timestamp_ms': 1720609499643, 'task_type': 'EXPORT_IMAGE', 'attempt': 1, 'id': 'EA2DF7S7Q47SOV7ZAETNKNKA', 'name': 'projects/laurabeth1418/operations/EA2DF7S7Q47SOV7ZAETNKNKA'}\n",
            "{'state': 'COMPLETED', 'description': 'VIIRS_Galloway_all_2022', 'priority': 100, 'creation_timestamp_ms': 1720609438830, 'update_timestamp_ms': 1720609502730, 'start_timestamp_ms': 1720609493103, 'task_type': 'EXPORT_IMAGE', 'destination_uris': ['https://drive.google.com/#folders/1qZr1pZ4EQqtLfNFscnwbMX5HnvN2EyI-'], 'attempt': 1, 'batch_eecu_usage_seconds': 0.47664883732795715, 'id': '4KMF5AC73S66WIKZ2JNVDYCA', 'name': 'projects/laurabeth1418/operations/4KMF5AC73S66WIKZ2JNVDYCA'}\n",
            "{'state': 'COMPLETED', 'description': 'VIIRS_Galloway_all_2021', 'priority': 100, 'creation_timestamp_ms': 1720609436816, 'update_timestamp_ms': 1720609488907, 'start_timestamp_ms': 1720609480144, 'task_type': 'EXPORT_IMAGE', 'destination_uris': ['https://drive.google.com/#folders/1qZr1pZ4EQqtLfNFscnwbMX5HnvN2EyI-'], 'attempt': 1, 'batch_eecu_usage_seconds': 0.41726210713386536, 'id': 'S3RNCE5UJGNKU5772ZXZ4CYX', 'name': 'projects/laurabeth1418/operations/S3RNCE5UJGNKU5772ZXZ4CYX'}\n",
            "{'state': 'COMPLETED', 'description': 'VIIRS_Galloway_all_2020', 'priority': 100, 'creation_timestamp_ms': 1720609434883, 'update_timestamp_ms': 1720609498706, 'start_timestamp_ms': 1720609480158, 'task_type': 'EXPORT_IMAGE', 'destination_uris': ['https://drive.google.com/#folders/1qZr1pZ4EQqtLfNFscnwbMX5HnvN2EyI-'], 'attempt': 1, 'batch_eecu_usage_seconds': 0.30685439705848694, 'id': '5KQTZ4HEZODEH43F6AH5FWCZ', 'name': 'projects/laurabeth1418/operations/5KQTZ4HEZODEH43F6AH5FWCZ'}\n",
            "{'state': 'COMPLETED', 'description': 'VIIRS_Galloway_all_2019', 'priority': 100, 'creation_timestamp_ms': 1720609433081, 'update_timestamp_ms': 1720609474915, 'start_timestamp_ms': 1720609460837, 'task_type': 'EXPORT_IMAGE', 'destination_uris': ['https://drive.google.com/#folders/1qZr1pZ4EQqtLfNFscnwbMX5HnvN2EyI-'], 'attempt': 1, 'batch_eecu_usage_seconds': 0.3089606761932373, 'id': '2PQXAZ5LQDMPEPUXEPYNVGL7', 'name': 'projects/laurabeth1418/operations/2PQXAZ5LQDMPEPUXEPYNVGL7'}\n",
            "{'state': 'COMPLETED', 'description': 'VIIRS_Galloway_all_2018', 'priority': 100, 'creation_timestamp_ms': 1720609431162, 'update_timestamp_ms': 1720609473040, 'start_timestamp_ms': 1720609460820, 'task_type': 'EXPORT_IMAGE', 'destination_uris': ['https://drive.google.com/#folders/1qZr1pZ4EQqtLfNFscnwbMX5HnvN2EyI-'], 'attempt': 1, 'batch_eecu_usage_seconds': 0.29083251953125, 'id': 'Y6N2CMEWVW36EZD5DGFI7BLA', 'name': 'projects/laurabeth1418/operations/Y6N2CMEWVW36EZD5DGFI7BLA'}\n",
            "{'state': 'COMPLETED', 'description': 'VIIRS_Galloway_all_2017', 'priority': 100, 'creation_timestamp_ms': 1720609429148, 'update_timestamp_ms': 1720609457420, 'start_timestamp_ms': 1720609445506, 'task_type': 'EXPORT_IMAGE', 'destination_uris': ['https://drive.google.com/#folders/1qZr1pZ4EQqtLfNFscnwbMX5HnvN2EyI-'], 'attempt': 1, 'batch_eecu_usage_seconds': 0.3252752721309662, 'id': 'M3LYRISI5YKFFDCUDCE6Q3XG', 'name': 'projects/laurabeth1418/operations/M3LYRISI5YKFFDCUDCE6Q3XG'}\n",
            "{'state': 'COMPLETED', 'description': 'VIIRS_Galloway_all_2016', 'priority': 100, 'creation_timestamp_ms': 1720609426980, 'update_timestamp_ms': 1720609456171, 'start_timestamp_ms': 1720609445512, 'task_type': 'EXPORT_IMAGE', 'destination_uris': ['https://drive.google.com/#folders/1qZr1pZ4EQqtLfNFscnwbMX5HnvN2EyI-'], 'attempt': 1, 'batch_eecu_usage_seconds': 0.5085981488227844, 'id': 'USPHWNVYU4LBGCUSXOXAHAGE', 'name': 'projects/laurabeth1418/operations/USPHWNVYU4LBGCUSXOXAHAGE'}\n",
            "{'state': 'COMPLETED', 'description': 'VIIRS_Galloway_all_2015', 'priority': 100, 'creation_timestamp_ms': 1720609425050, 'update_timestamp_ms': 1720609440521, 'start_timestamp_ms': 1720609429192, 'task_type': 'EXPORT_IMAGE', 'destination_uris': ['https://drive.google.com/#folders/1qZr1pZ4EQqtLfNFscnwbMX5HnvN2EyI-'], 'attempt': 1, 'batch_eecu_usage_seconds': 0.5190992951393127, 'id': 'HOTHF6R5B6FFWYEUPPW3GTKH', 'name': 'projects/laurabeth1418/operations/HOTHF6R5B6FFWYEUPPW3GTKH'}\n",
            "{'state': 'COMPLETED', 'description': 'VIIRS_Galloway_all_2014', 'priority': 100, 'creation_timestamp_ms': 1720609423005, 'update_timestamp_ms': 1720609441253, 'start_timestamp_ms': 1720609429151, 'task_type': 'EXPORT_IMAGE', 'destination_uris': ['https://drive.google.com/#folders/18GGOT_iagnjB8sst8519G83tkl4DWjdA'], 'attempt': 1, 'batch_eecu_usage_seconds': 0.33699584007263184, 'id': '4JL7R7PUYDYAGYTGTZL4BHB5', 'name': 'projects/laurabeth1418/operations/4JL7R7PUYDYAGYTGTZL4BHB5'}\n",
            "{'state': 'COMPLETED', 'description': 'VIIRS_Galloway_20_buffer_2023', 'priority': 100, 'creation_timestamp_ms': 1720543803690, 'update_timestamp_ms': 1720543926285, 'start_timestamp_ms': 1720543917105, 'task_type': 'EXPORT_IMAGE', 'destination_uris': ['https://drive.google.com/#folders/1siEJlhwyWJxksz-bvhE9iVJI63nsrBhN'], 'attempt': 1, 'batch_eecu_usage_seconds': 0.2809743285179138, 'id': 'VKLBGZM6YNOFT7NDJIOPXSE4', 'name': 'projects/laurabeth1418/operations/VKLBGZM6YNOFT7NDJIOPXSE4'}\n",
            "{'state': 'COMPLETED', 'description': 'VIIRS_Galloway_20_buffer_2022', 'priority': 100, 'creation_timestamp_ms': 1720543801523, 'update_timestamp_ms': 1720543922497, 'start_timestamp_ms': 1720543910690, 'task_type': 'EXPORT_IMAGE', 'destination_uris': ['https://drive.google.com/#folders/1siEJlhwyWJxksz-bvhE9iVJI63nsrBhN'], 'attempt': 1, 'batch_eecu_usage_seconds': 0.413533091545105, 'id': 'RRAG2KFSLP3MD5SV23FJ35B2', 'name': 'projects/laurabeth1418/operations/RRAG2KFSLP3MD5SV23FJ35B2'}\n",
            "{'state': 'COMPLETED', 'description': 'VIIRS_Galloway_20_buffer_2021', 'priority': 100, 'creation_timestamp_ms': 1720543798929, 'update_timestamp_ms': 1720543912361, 'start_timestamp_ms': 1720543901892, 'task_type': 'EXPORT_IMAGE', 'destination_uris': ['https://drive.google.com/#folders/1siEJlhwyWJxksz-bvhE9iVJI63nsrBhN'], 'attempt': 1, 'batch_eecu_usage_seconds': 0.6070261597633362, 'id': 'NNMMMKTXBYTF3ETGQB2EERC5', 'name': 'projects/laurabeth1418/operations/NNMMMKTXBYTF3ETGQB2EERC5'}\n",
            "{'state': 'COMPLETED', 'description': 'VIIRS_Galloway_20_buffer_2020', 'priority': 100, 'creation_timestamp_ms': 1720543796911, 'update_timestamp_ms': 1720543907852, 'start_timestamp_ms': 1720543895685, 'task_type': 'EXPORT_IMAGE', 'destination_uris': ['https://drive.google.com/#folders/1siEJlhwyWJxksz-bvhE9iVJI63nsrBhN'], 'attempt': 1, 'batch_eecu_usage_seconds': 0.658069372177124, 'id': 'DJ2AN46F4SO4A65GUA25CYS5', 'name': 'projects/laurabeth1418/operations/DJ2AN46F4SO4A65GUA25CYS5'}\n",
            "{'state': 'COMPLETED', 'description': 'VIIRS_Galloway_20_buffer_2019', 'priority': 100, 'creation_timestamp_ms': 1720543794363, 'update_timestamp_ms': 1720543897035, 'start_timestamp_ms': 1720543886931, 'task_type': 'EXPORT_IMAGE', 'destination_uris': ['https://drive.google.com/#folders/1siEJlhwyWJxksz-bvhE9iVJI63nsrBhN'], 'attempt': 1, 'batch_eecu_usage_seconds': 0.34391719102859497, 'id': 'FNQO2EAFAOEFFBH7LT7C57S3', 'name': 'projects/laurabeth1418/operations/FNQO2EAFAOEFFBH7LT7C57S3'}\n",
            "{'state': 'COMPLETED', 'description': 'VIIRS_Galloway_20_buffer_2018', 'priority': 100, 'creation_timestamp_ms': 1720543791775, 'update_timestamp_ms': 1720543892763, 'start_timestamp_ms': 1720543880560, 'task_type': 'EXPORT_IMAGE', 'destination_uris': ['https://drive.google.com/#folders/1siEJlhwyWJxksz-bvhE9iVJI63nsrBhN'], 'attempt': 1, 'batch_eecu_usage_seconds': 0.3606886863708496, 'id': 'WHTIT7CYKMNGCK7WP2TG776G', 'name': 'projects/laurabeth1418/operations/WHTIT7CYKMNGCK7WP2TG776G'}\n",
            "{'state': 'COMPLETED', 'description': 'VIIRS_Galloway_20_buffer_2017', 'priority': 100, 'creation_timestamp_ms': 1720543789753, 'update_timestamp_ms': 1720543882994, 'start_timestamp_ms': 1720543873090, 'task_type': 'EXPORT_IMAGE', 'destination_uris': ['https://drive.google.com/#folders/1siEJlhwyWJxksz-bvhE9iVJI63nsrBhN'], 'attempt': 1, 'batch_eecu_usage_seconds': 0.5189050436019897, 'id': 'AXNZ5V4FUZA7P5S6AX3DHIK5', 'name': 'projects/laurabeth1418/operations/AXNZ5V4FUZA7P5S6AX3DHIK5'}\n",
            "{'state': 'COMPLETED', 'description': 'VIIRS_Galloway_20_buffer_2016', 'priority': 100, 'creation_timestamp_ms': 1720543787706, 'update_timestamp_ms': 1720543876697, 'start_timestamp_ms': 1720543866380, 'task_type': 'EXPORT_IMAGE', 'destination_uris': ['https://drive.google.com/#folders/1siEJlhwyWJxksz-bvhE9iVJI63nsrBhN'], 'attempt': 1, 'batch_eecu_usage_seconds': 0.6376940011978149, 'id': 'SUHAKECDVUIUYUFWV5BOUKSB', 'name': 'projects/laurabeth1418/operations/SUHAKECDVUIUYUFWV5BOUKSB'}\n",
            "{'state': 'COMPLETED', 'description': 'VIIRS_Galloway_20_buffer_2015', 'priority': 100, 'creation_timestamp_ms': 1720543785096, 'update_timestamp_ms': 1720543870352, 'start_timestamp_ms': 1720543859702, 'task_type': 'EXPORT_IMAGE', 'destination_uris': ['https://drive.google.com/#folders/1siEJlhwyWJxksz-bvhE9iVJI63nsrBhN'], 'attempt': 1, 'batch_eecu_usage_seconds': 0.5651229619979858, 'id': 'FSMXCTJHISFKFNHGXPDZ5CE2', 'name': 'projects/laurabeth1418/operations/FSMXCTJHISFKFNHGXPDZ5CE2'}\n",
            "{'state': 'COMPLETED', 'description': 'VIIRS_Galloway_20_buffer_2014', 'priority': 100, 'creation_timestamp_ms': 1720543782793, 'update_timestamp_ms': 1720543861764, 'start_timestamp_ms': 1720543850064, 'task_type': 'EXPORT_IMAGE', 'destination_uris': ['https://drive.google.com/#folders/1siEJlhwyWJxksz-bvhE9iVJI63nsrBhN'], 'attempt': 1, 'batch_eecu_usage_seconds': 0.3821773827075958, 'id': 'BSI2E424DT7MLGGGUHWMLBPJ', 'name': 'projects/laurabeth1418/operations/BSI2E424DT7MLGGGUHWMLBPJ'}\n",
            "{'state': 'COMPLETED', 'description': 'VIIRS_Tomintoul_20_buffer_2023', 'priority': 100, 'creation_timestamp_ms': 1720543779419, 'update_timestamp_ms': 1720543853453, 'start_timestamp_ms': 1720543843690, 'task_type': 'EXPORT_IMAGE', 'destination_uris': ['https://drive.google.com/#folders/1siEJlhwyWJxksz-bvhE9iVJI63nsrBhN'], 'attempt': 1, 'batch_eecu_usage_seconds': 0.16447553038597107, 'id': 'QRFIOB4DTQSJTLJB5LQUW7GZ', 'name': 'projects/laurabeth1418/operations/QRFIOB4DTQSJTLJB5LQUW7GZ'}\n",
            "{'state': 'COMPLETED', 'description': 'VIIRS_Tomintoul_20_buffer_2022', 'priority': 100, 'creation_timestamp_ms': 1720543779216, 'update_timestamp_ms': 1720543846101, 'start_timestamp_ms': 1720543837118, 'task_type': 'EXPORT_IMAGE', 'destination_uris': ['https://drive.google.com/#folders/1siEJlhwyWJxksz-bvhE9iVJI63nsrBhN'], 'attempt': 1, 'batch_eecu_usage_seconds': 0.3217512369155884, 'id': 'H3Y33272EKLQRL5CQM7JLPS6', 'name': 'projects/laurabeth1418/operations/H3Y33272EKLQRL5CQM7JLPS6'}\n",
            "{'state': 'COMPLETED', 'description': 'VIIRS_Tomintoul_20_buffer_2021', 'priority': 100, 'creation_timestamp_ms': 1720543778928, 'update_timestamp_ms': 1720543840687, 'start_timestamp_ms': 1720543830583, 'task_type': 'EXPORT_IMAGE', 'destination_uris': ['https://drive.google.com/#folders/1siEJlhwyWJxksz-bvhE9iVJI63nsrBhN'], 'attempt': 1, 'batch_eecu_usage_seconds': 0.14356809854507446, 'id': 'LWY3MB3SK7NXUMOT2QROJSDP', 'name': 'projects/laurabeth1418/operations/LWY3MB3SK7NXUMOT2QROJSDP'}\n",
            "{'state': 'COMPLETED', 'description': 'VIIRS_Tomintoul_20_buffer_2020', 'priority': 100, 'creation_timestamp_ms': 1720543778620, 'update_timestamp_ms': 1720543832815, 'start_timestamp_ms': 1720543824669, 'task_type': 'EXPORT_IMAGE', 'destination_uris': ['https://drive.google.com/#folders/1siEJlhwyWJxksz-bvhE9iVJI63nsrBhN'], 'attempt': 1, 'batch_eecu_usage_seconds': 0.12204433977603912, 'id': '6GRTF3TR6LPYCK7NYG5LLURY', 'name': 'projects/laurabeth1418/operations/6GRTF3TR6LPYCK7NYG5LLURY'}\n",
            "{'state': 'COMPLETED', 'description': 'VIIRS_Tomintoul_20_buffer_2019', 'priority': 100, 'creation_timestamp_ms': 1720543778307, 'update_timestamp_ms': 1720543826285, 'start_timestamp_ms': 1720543814679, 'task_type': 'EXPORT_IMAGE', 'destination_uris': ['https://drive.google.com/#folders/1siEJlhwyWJxksz-bvhE9iVJI63nsrBhN'], 'attempt': 1, 'batch_eecu_usage_seconds': 0.1603005826473236, 'id': '7KRYPC27B5BJ5VUFM4ROXYIL', 'name': 'projects/laurabeth1418/operations/7KRYPC27B5BJ5VUFM4ROXYIL'}\n",
            "{'state': 'COMPLETED', 'description': 'VIIRS_Tomintoul_20_buffer_2018', 'priority': 100, 'creation_timestamp_ms': 1720543778059, 'update_timestamp_ms': 1720543820917, 'start_timestamp_ms': 1720543811643, 'task_type': 'EXPORT_IMAGE', 'destination_uris': ['https://drive.google.com/#folders/1siEJlhwyWJxksz-bvhE9iVJI63nsrBhN'], 'attempt': 1, 'batch_eecu_usage_seconds': 0.17689211666584015, 'id': 'WFAYTOMAFNBLBKOJJ3VBWVG6', 'name': 'projects/laurabeth1418/operations/WFAYTOMAFNBLBKOJJ3VBWVG6'}\n",
            "{'state': 'COMPLETED', 'description': 'VIIRS_Tomintoul_20_buffer_2017', 'priority': 100, 'creation_timestamp_ms': 1720543777791, 'update_timestamp_ms': 1720543811232, 'start_timestamp_ms': 1720543797790, 'task_type': 'EXPORT_IMAGE', 'destination_uris': ['https://drive.google.com/#folders/1siEJlhwyWJxksz-bvhE9iVJI63nsrBhN'], 'attempt': 1, 'batch_eecu_usage_seconds': 0.15878096222877502, 'id': 'Z7JFS7WFUT7V4WDT3T7APTF7', 'name': 'projects/laurabeth1418/operations/Z7JFS7WFUT7V4WDT3T7APTF7'}\n",
            "{'state': 'COMPLETED', 'description': 'VIIRS_Tomintoul_20_buffer_2016', 'priority': 100, 'creation_timestamp_ms': 1720543777520, 'update_timestamp_ms': 1720543809523, 'start_timestamp_ms': 1720543797794, 'task_type': 'EXPORT_IMAGE', 'destination_uris': ['https://drive.google.com/#folders/1siEJlhwyWJxksz-bvhE9iVJI63nsrBhN'], 'attempt': 1, 'batch_eecu_usage_seconds': 0.1538686901330948, 'id': 'IL6VVDH6GJKLJPV6GYIEFWQA', 'name': 'projects/laurabeth1418/operations/IL6VVDH6GJKLJPV6GYIEFWQA'}\n",
            "{'state': 'COMPLETED', 'description': 'VIIRS_Tomintoul_20_buffer_2015', 'priority': 100, 'creation_timestamp_ms': 1720543777227, 'update_timestamp_ms': 1720543794950, 'start_timestamp_ms': 1720543785893, 'task_type': 'EXPORT_IMAGE', 'destination_uris': ['https://drive.google.com/#folders/1siEJlhwyWJxksz-bvhE9iVJI63nsrBhN'], 'attempt': 1, 'batch_eecu_usage_seconds': 0.14343830943107605, 'id': '7HIUK7IKNX2OB3CBJ4LE2XKU', 'name': 'projects/laurabeth1418/operations/7HIUK7IKNX2OB3CBJ4LE2XKU'}\n",
            "{'state': 'COMPLETED', 'description': 'VIIRS_Tomintoul_20_buffer_2014', 'priority': 100, 'creation_timestamp_ms': 1720543776916, 'update_timestamp_ms': 1720543795047, 'start_timestamp_ms': 1720543785896, 'task_type': 'EXPORT_IMAGE', 'destination_uris': ['https://drive.google.com/#folders/1siEJlhwyWJxksz-bvhE9iVJI63nsrBhN'], 'attempt': 1, 'batch_eecu_usage_seconds': 0.18741069734096527, 'id': 'NPRGT7GWL6F7YZ4245PYZKOX', 'name': 'projects/laurabeth1418/operations/NPRGT7GWL6F7YZ4245PYZKOX'}\n"
          ]
        }
      ],
      "source": [
        "#Load, mask, and filter datasets for a specific year for the AOI\n",
        "def export_viirs_data(year, aoi, export_name):\n",
        "    data = apply_mask(load_viirs_data(f'{year}-01-01', f'{year}-12-31', aoi))\n",
        "    task = ee.batch.Export.image.toDrive(image=data,\n",
        "                                         description=f'VIIRS_{export_name}_{year}',\n",
        "                                         folder=folder_name,\n",
        "                                         fileNamePrefix=f'VIIRS_{export_name}_{year}',\n",
        "                                         scale=500,\n",
        "                                         region=aoi)\n",
        "    task.start()\n",
        "\n",
        "    # Export data for each year for both Galloway and Cairngorms   (I reuse aois as a variable here- hash out as requires to avoid errors )\n",
        "#aois = {'Galloway': Galloway, 'Cairngorms': aoi_CA}\n",
        "#aois = {'Tomintoul':aoi_T}\n",
        "aois ={'Tomintoul_inclusive':aoi_T_inc}\n",
        "folder_name = 'VIIRS_GA_T_20km_inclusive'\n",
        "for name, aoi in aois.items():\n",
        "    for year in range(2014, 2023 + 1):\n",
        "        export_viirs_data(year, aoi, name)\n",
        "\n",
        "# Monitor task status\n",
        "tasks = ee.batch.Task.list()\n",
        "for task in tasks:\n",
        "    print(task.status())"
      ]
    },
    {
      "cell_type": "code",
      "execution_count": null,
      "metadata": {
        "id": "w57nYk22nWoV"
      },
      "outputs": [],
      "source": []
    },
    {
      "cell_type": "code",
      "execution_count": null,
      "metadata": {
        "id": "tA2yGEqjnWiv"
      },
      "outputs": [],
      "source": []
    }
  ],
  "metadata": {
    "colab": {
      "provenance": [],
      "collapsed_sections": [
        "8HLohmv4yzWC",
        "8Lts-ByrzKSx"
      ],
      "mount_file_id": "1Ld7tJpkxr1vzltAyJVigqMm0ecxzGvoD",
      "authorship_tag": "ABX9TyOePDgOyJmmcczPVfbS1+QY",
      "include_colab_link": true
    },
    "kernelspec": {
      "display_name": "Python 3",
      "name": "python3"
    },
    "language_info": {
      "name": "python"
    }
  },
  "nbformat": 4,
  "nbformat_minor": 0
}