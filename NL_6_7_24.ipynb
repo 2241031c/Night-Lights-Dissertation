{
  "nbformat": 4,
  "nbformat_minor": 0,
  "metadata": {
    "colab": {
      "provenance": [],
      "collapsed_sections": [
        "Pyx21rWTVOmi"
      ],
      "authorship_tag": "ABX9TyNVYAppvO37E2MiZ/+hO5vi",
      "include_colab_link": true
    },
    "kernelspec": {
      "name": "python3",
      "display_name": "Python 3"
    },
    "language_info": {
      "name": "python"
    }
  },
  "cells": [
    {
      "cell_type": "markdown",
      "metadata": {
        "id": "view-in-github",
        "colab_type": "text"
      },
      "source": [
        "<a href=\"https://colab.research.google.com/github/2241031c/Night-Lights-Dissertation/blob/main/NL_6_7_24.ipynb\" target=\"_parent\"><img src=\"https://colab.research.google.com/assets/colab-badge.svg\" alt=\"Open In Colab\"/></a>"
      ]
    },
    {
      "cell_type": "markdown",
      "source": [
        "##This notebook will run a spatial regression for years 2018-2023 for Tomintoul. To run for a different area of interest just change the file path's"
      ],
      "metadata": {
        "id": "8YrbqTyBYE-2"
      }
    },
    {
      "cell_type": "code",
      "source": [
        "#Install libraries\n",
        "!pip install pysal"
      ],
      "metadata": {
        "id": "Hc8hJzYLXh4W"
      },
      "execution_count": null,
      "outputs": []
    },
    {
      "cell_type": "code",
      "execution_count": null,
      "metadata": {
        "id": "O5uBORD2VtJO",
        "colab": {
          "base_uri": "https://localhost:8080/"
        },
        "outputId": "349d1679-6b35-4d17-bbbc-4407bf7f596a"
      },
      "outputs": [
        {
          "output_type": "stream",
          "name": "stdout",
          "text": [
            "Mounted at /content/drive\n"
          ]
        }
      ],
      "source": [
        "#Import libraries\n",
        "import numpy as np\n",
        "import pandas as pd\n",
        "import geopandas as gpd\n",
        "import matplotlib.pyplot as plt\n",
        "from google.colab import drive\n",
        "from osgeo import gdal\n",
        "from shapely.geometry import Point\n",
        "from sklearn.preprocessing import MinMaxScaler\n",
        "from pysal.model import spreg\n",
        "from pysal.lib import weights\n",
        "from libpysal.weights import Queen\n",
        "import matplotlib.pyplot as plt\n",
        "import rasterio\n",
        "from rasterio.features import rasterize\n",
        "from rasterio.enums import Resampling\n",
        "from rasterio.warp import reproject, Resampling\n",
        "from rasterio.transform import from_bounds\n",
        "import os\n",
        "from spreg import ML_Lag, ML_Error\n",
        "from mgwr.gwr import GWR\n",
        "from mgwr.sel_bw import Sel_BW\n",
        "\n",
        "# Mount Google Drive\n",
        "drive.mount('/content/drive')"
      ]
    },
    {
      "cell_type": "code",
      "source": [
        "# Define file paths - change these depending on where data is being pulled from\n",
        "roads_shapefile = '/content/drive/MyDrive/NightLight/ArcGIS/digimap/aoi/Tomintoul_roads.shp'\n",
        "buildings_shapefile = '/content/drive/MyDrive/NightLight/ArcGIS/digimap/aoi/Tomintoul_buildings.shp'\n",
        "viirs_dir = '/content/drive/MyDrive/EarthEngineExports'\n",
        "output_dir = '/content/drive/MyDrive/NightLight/ArcGIS/digimap/Numpy'"
      ],
      "metadata": {
        "id": "lD-TnryLVqG5"
      },
      "execution_count": null,
      "outputs": []
    },
    {
      "cell_type": "code",
      "source": [
        "#Define temporal range\n",
        "years = range(2018, 2024)\n",
        "\n",
        "# Load shapefiles\n",
        "roads = gpd.read_file(roads_shapefile)\n",
        "buildings = gpd.read_file(buildings_shapefile)\n",
        "\n",
        "# Buffer distance\n",
        "buffer_distance = 100  # meters\n",
        "\n",
        "# Buffer the roads and buildings\n",
        "buffered_roads = roads.buffer(buffer_distance)\n",
        "buffered_buildings = buildings.buffer(buffer_distance)\n",
        "\n",
        "# Define bounds and resolution for raster\n",
        "resolution = 750  # VIIRS spatial resolution\n",
        "bounds = buffered_roads.total_bounds"
      ],
      "metadata": {
        "id": "nP7fQ3shWBtQ"
      },
      "execution_count": null,
      "outputs": []
    },
    {
      "cell_type": "code",
      "source": [
        "# Create raster template\n",
        "transform = from_bounds(*bounds, width=int((bounds[2] - bounds[0]) / resolution), height=int((bounds[3] - bounds[1]) / resolution))\n",
        "out_shape = (int((bounds[3] - bounds[1]) / resolution), int((bounds[2] - bounds[0]) / resolution))\n",
        "\n",
        "# Rasterize buffered roads and buildings\n",
        "road_raster = rasterize([(geom, 1) for geom in buffered_roads.geometry], out_shape=out_shape, transform=transform, fill=0)\n",
        "building_raster = rasterize([(geom, 1) for geom in buffered_buildings.geometry], out_shape=out_shape, transform=transform, fill=0)\n",
        "\n",
        "# Save the rasterized data as numpy arrays\n",
        "np.save(os.path.join(output_dir, 'road_influence.npy'), road_raster)\n",
        "np.save(os.path.join(output_dir, 'building_influence.npy'), building_raster)"
      ],
      "metadata": {
        "id": "mH7qeiO-WL1b"
      },
      "execution_count": null,
      "outputs": []
    },
    {
      "cell_type": "code",
      "source": [
        "# Convert TIFF to numpy arrays\n",
        "def tiff_to_npy(tiff_path, npy_path):\n",
        "    with rasterio.open(tiff_path) as src:\n",
        "        array = src.read(1)\n",
        "        np.save(npy_path, array)\n",
        "    return array\n",
        "\n",
        "# Convert all years\n",
        "def convert_all_years(years, viirs_dir, output_dir):\n",
        "    viirs_arrays = {}\n",
        "    for year in years:\n",
        "        tiff_path = os.path.join(viirs_dir, f'VIIRS_Tomintoul_{year}.tif')\n",
        "        npy_path = os.path.join(output_dir, f'VIIRS_Tomintoul_{year}.npy')\n",
        "        viirs_arrays[year] = tiff_to_npy(tiff_path, npy_path)\n",
        "    return viirs_arrays\n",
        "\n",
        "viirs_arrays = convert_all_years(years, viirs_dir, output_dir)\n",
        "\n",
        "# Load and flatten numpy arrays\n",
        "def load_and_flatten_npy(npy_path):\n",
        "    array = np.load(npy_path)\n",
        "    return array.flatten()\n",
        "\n",
        "def load_and_flatten_tiff(tiff_path):\n",
        "    with rasterio.open(tiff_path) as src:\n",
        "        array = src.read(1)\n",
        "    return array.flatten()\n",
        "\n",
        "# Ensure data types are consistent and replace -9999 and NaN with 0\n",
        "def clean_array(array):\n",
        "    array = np.where(np.logical_or(array == -9999, np.isnan(array)), 0, array)\n",
        "    return array.astype(np.float32)"
      ],
      "metadata": {
        "id": "QN_ZCrBCWxHp"
      },
      "execution_count": null,
      "outputs": []
    },
    {
      "cell_type": "code",
      "source": [
        "# Function to resample arrays to match the target array shape\n",
        "def resample_array(src_array, src_transform, src_crs, target_transform, target_shape, resampling_method=Resampling.nearest):\n",
        "    resampled_array = np.empty(target_shape, dtype=src_array.dtype)\n",
        "    reproject(\n",
        "        source=src_array,\n",
        "        destination=resampled_array,\n",
        "        src_transform=src_transform,\n",
        "        src_crs=src_crs,\n",
        "        dst_transform=target_transform,\n",
        "        dst_crs=src_crs,\n",
        "        resampling=resampling_method\n",
        "    )\n",
        "    return resampled_array"
      ],
      "metadata": {
        "id": "JfzOD8RLaRv4"
      },
      "execution_count": null,
      "outputs": []
    },
    {
      "cell_type": "code",
      "source": [
        "# Automate the spatial regression for each year\n",
        "for year in years:\n",
        "    # Load VIIRS data for the year\n",
        "    viirs_radiance = clean_array(load_and_flatten_npy(os.path.join(output_dir, f'VIIRS_Tomintoul_{year}.npy')))\n",
        "\n",
        "    # Load and resample road and building rasters to match the VIIRS raster\n",
        "    with rasterio.open(os.path.join(viirs_dir, f'VIIRS_Tomintoul_{year}.tif')) as viirs_src:\n",
        "        viirs_transform = viirs_src.transform\n",
        "        viirs_shape = viirs_src.shape\n",
        "        viirs_crs = viirs_src.crs\n",
        "\n",
        "    road_raster_resampled = resample_array(\n",
        "        src_array=road_raster,\n",
        "        src_transform=transform,\n",
        "        src_crs='EPSG:4326',\n",
        "        target_transform=viirs_transform,\n",
        "        target_shape=viirs_shape\n",
        "    )\n",
        "\n",
        "    building_raster_resampled = resample_array(\n",
        "        src_array=building_raster,\n",
        "        src_transform=transform,\n",
        "        src_crs='EPSG:4326',\n",
        "        target_transform=viirs_transform,\n",
        "        target_shape=viirs_shape\n",
        "    )\n",
        "    # Flatten and clean the resampled arrays\n",
        "    road_raster_flat = clean_array(road_raster_resampled.flatten())\n",
        "    building_raster_flat = clean_array(building_raster_resampled.flatten())\n",
        "\n",
        "    # Create DataFrame\n",
        "    data = pd.DataFrame({\n",
        "        'radiance': viirs_radiance,\n",
        "        'road_influence': road_raster_flat,\n",
        "        'building_influence': building_raster_flat,\n",
        "    })\n",
        "\n",
        "    # Perform spatial regression\n",
        "    n_obs = data.shape[0]\n",
        "    w = weights.lat2W(n_obs, 1)\n",
        "    model = ML_Lag(data[['radiance']].values, data[['road_influence', 'building_influence']].values, w=w)\n",
        "\n",
        "    # Output results\n",
        "    print(f\"Year {year} Model Summary\")\n",
        "    print(model.summary)\n",
        "\n",
        "    # Perform GWR\n",
        "    #coords = np.column_stack([data.index % viirs_shape[1], data.index // viirs_shape[1]])  # Generate coordinates\n",
        "    #sel_bw = Sel_BW(coords, data[['radiance']].values, data[['road_influence', 'building_influence']].values)\n",
        "    #bw = sel_bw.search()\n",
        "    #gwr_model = GWR(coords, data[['radiance']].values, data[['road_influence', 'building_influence']].values, bw).fit()\n",
        "    #print(f\"Year {year} GWR Model Summary\")\n",
        "    #print(gwr_model.summary())"
      ],
      "metadata": {
        "id": "_t9AJdngbIi4"
      },
      "execution_count": null,
      "outputs": []
    }
  ]
}